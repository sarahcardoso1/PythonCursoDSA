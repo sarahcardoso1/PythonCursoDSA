{
 "cells": [
  {
   "cell_type": "markdown",
   "id": "90ed0eee",
   "metadata": {},
   "source": [
    "# Polimofismo de classes"
   ]
  },
  {
   "cell_type": "code",
   "execution_count": 5,
   "id": "d622c765",
   "metadata": {},
   "outputs": [],
   "source": [
    "class Veiculo:\n",
    "    \n",
    "    def __init__(self, marca, modelo):\n",
    "        self.marca = marca\n",
    "        self.modelo = modelo\n",
    "        \n",
    "    def acelerar(self):\n",
    "        pass\n",
    "    \n",
    "    def freiar(self):\n",
    "        pass"
   ]
  },
  {
   "cell_type": "code",
   "execution_count": 6,
   "id": "004d8966",
   "metadata": {},
   "outputs": [],
   "source": [
    "class Carro(Veiculo):\n",
    "    \n",
    "    def acelerar(self):\n",
    "        print('O carro está acelerando')\n",
    "    \n",
    "    def freiar(self):\n",
    "        print('O carro está freiando')"
   ]
  },
  {
   "cell_type": "code",
   "execution_count": 7,
   "id": "1d532ec6",
   "metadata": {},
   "outputs": [],
   "source": [
    "class Moto(Veiculo):\n",
    "    \n",
    "    def acelerar(self):\n",
    "        print('A moto está acelerando')\n",
    "        \n",
    "    def freiar(self):\n",
    "        print('A moto está freiando')"
   ]
  },
  {
   "cell_type": "code",
   "execution_count": 8,
   "id": "556390e5",
   "metadata": {},
   "outputs": [],
   "source": [
    "class Aviao(Veiculo):\n",
    "    \n",
    "    def acelerar(self):\n",
    "        print('O aviao esta acelerando')\n",
    "        \n",
    "    def freiar(self):\n",
    "        print('O aviao esta freiando')\n",
    "        \n",
    "    def decolar(self):\n",
    "        print('O aviao esta decolando')"
   ]
  },
  {
   "cell_type": "code",
   "execution_count": 10,
   "id": "c3ea3c71",
   "metadata": {},
   "outputs": [],
   "source": [
    "lista_veiculos = [Carro('Porsche', '911 Turbo'), Moto('Honda', 'CB 1000R Black Edition '), Aviao('Boeing', '777')]"
   ]
  },
  {
   "cell_type": "code",
   "execution_count": 11,
   "id": "1458fafe",
   "metadata": {},
   "outputs": [
    {
     "data": {
      "text/plain": [
       "list"
      ]
     },
     "execution_count": 11,
     "metadata": {},
     "output_type": "execute_result"
    }
   ],
   "source": [
    "type(lista_veiculos)"
   ]
  },
  {
   "cell_type": "code",
   "execution_count": 14,
   "id": "c1290755",
   "metadata": {},
   "outputs": [
    {
     "name": "stdout",
     "output_type": "stream",
     "text": [
      "O carro está acelerando\n",
      "O carro está freiando\n",
      "---\n",
      "A moto está acelerando\n",
      "A moto está freiando\n",
      "---\n",
      "O aviao esta acelerando\n",
      "O aviao esta freiando\n",
      "O aviao esta decolando\n",
      "---\n"
     ]
    }
   ],
   "source": [
    "for item in lista_veiculos:\n",
    "    \n",
    "    item.acelerar()\n",
    "    \n",
    "    item.freiar()\n",
    "    \n",
    "    if isinstance(item, Aviao):\n",
    "        item.decolar()\n",
    "    \n",
    "    print(\"---\")"
   ]
  },
  {
   "cell_type": "code",
   "execution_count": null,
   "id": "b0eaa075",
   "metadata": {},
   "outputs": [],
   "source": []
  }
 ],
 "metadata": {
  "kernelspec": {
   "display_name": "Python 3 (ipykernel)",
   "language": "python",
   "name": "python3"
  },
  "language_info": {
   "codemirror_mode": {
    "name": "ipython",
    "version": 3
   },
   "file_extension": ".py",
   "mimetype": "text/x-python",
   "name": "python",
   "nbconvert_exporter": "python",
   "pygments_lexer": "ipython3",
   "version": "3.9.12"
  }
 },
 "nbformat": 4,
 "nbformat_minor": 5
}
