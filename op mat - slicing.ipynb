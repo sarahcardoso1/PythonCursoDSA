{
 "cells": [
  {
   "cell_type": "markdown",
   "id": "27d3c199",
   "metadata": {},
   "source": [
    "## Operaçoes matematicas com arrays numpy"
   ]
  },
  {
   "cell_type": "code",
   "execution_count": 1,
   "id": "52b1331b",
   "metadata": {},
   "outputs": [],
   "source": [
    "import numpy as dsa"
   ]
  },
  {
   "cell_type": "code",
   "execution_count": 2,
   "id": "41add52f",
   "metadata": {},
   "outputs": [],
   "source": [
    "arr15 = dsa.arange(1, 10)"
   ]
  },
  {
   "cell_type": "code",
   "execution_count": 3,
   "id": "3d17e564",
   "metadata": {},
   "outputs": [
    {
     "name": "stdout",
     "output_type": "stream",
     "text": [
      "[1 2 3 4 5 6 7 8 9]\n"
     ]
    }
   ],
   "source": [
    "print(arr15)"
   ]
  },
  {
   "cell_type": "code",
   "execution_count": 4,
   "id": "e1f2d5df",
   "metadata": {},
   "outputs": [
    {
     "data": {
      "text/plain": [
       "45"
      ]
     },
     "execution_count": 4,
     "metadata": {},
     "output_type": "execute_result"
    }
   ],
   "source": [
    "dsa.sum(arr15)"
   ]
  },
  {
   "cell_type": "code",
   "execution_count": 5,
   "id": "45813649",
   "metadata": {},
   "outputs": [
    {
     "data": {
      "text/plain": [
       "362880"
      ]
     },
     "execution_count": 5,
     "metadata": {},
     "output_type": "execute_result"
    }
   ],
   "source": [
    "dsa.prod(arr15)  # retorna o produto dos elementos "
   ]
  },
  {
   "cell_type": "code",
   "execution_count": 6,
   "id": "3d65a3bf",
   "metadata": {},
   "outputs": [
    {
     "data": {
      "text/plain": [
       "array([ 1,  3,  6, 10, 15, 21, 28, 36, 45], dtype=int32)"
      ]
     },
     "execution_count": 6,
     "metadata": {},
     "output_type": "execute_result"
    }
   ],
   "source": [
    "dsa.cumsum(arr15)"
   ]
  },
  {
   "cell_type": "code",
   "execution_count": 7,
   "id": "a51b3755",
   "metadata": {},
   "outputs": [],
   "source": [
    "arr16 = dsa.array([3, 2, 1])\n",
    "arr17 = dsa.array([1, 2, 3])"
   ]
  },
  {
   "cell_type": "code",
   "execution_count": 8,
   "id": "841467d5",
   "metadata": {},
   "outputs": [],
   "source": [
    "arr18 = dsa.add(arr16, arr17)   # soma dos arrays"
   ]
  },
  {
   "cell_type": "code",
   "execution_count": 9,
   "id": "139b0346",
   "metadata": {},
   "outputs": [
    {
     "name": "stdout",
     "output_type": "stream",
     "text": [
      "[4 4 4]\n"
     ]
    }
   ],
   "source": [
    "print(arr18)"
   ]
  },
  {
   "cell_type": "code",
   "execution_count": 10,
   "id": "39b9b926",
   "metadata": {},
   "outputs": [],
   "source": [
    "arr19 = dsa.array([[1, 2], [3, 4]])\n",
    "arr20 = dsa.array([[5, 6], [0, 7]])"
   ]
  },
  {
   "cell_type": "code",
   "execution_count": 11,
   "id": "71797e5e",
   "metadata": {},
   "outputs": [
    {
     "data": {
      "text/plain": [
       "(2, 2)"
      ]
     },
     "execution_count": 11,
     "metadata": {},
     "output_type": "execute_result"
    }
   ],
   "source": [
    "arr19.shape"
   ]
  },
  {
   "cell_type": "code",
   "execution_count": 12,
   "id": "092f74ff",
   "metadata": {},
   "outputs": [
    {
     "data": {
      "text/plain": [
       "(2, 2)"
      ]
     },
     "execution_count": 12,
     "metadata": {},
     "output_type": "execute_result"
    }
   ],
   "source": [
    "arr20.shape"
   ]
  },
  {
   "cell_type": "code",
   "execution_count": 13,
   "id": "e84a7cdd",
   "metadata": {},
   "outputs": [
    {
     "name": "stdout",
     "output_type": "stream",
     "text": [
      "[[1 2]\n",
      " [3 4]]\n"
     ]
    }
   ],
   "source": [
    "print(arr19)"
   ]
  },
  {
   "cell_type": "code",
   "execution_count": 15,
   "id": "15c6380f",
   "metadata": {},
   "outputs": [],
   "source": [
    "arr21 = dsa.dot(arr19, arr20)   #multiplicar as duas matrizes"
   ]
  },
  {
   "cell_type": "code",
   "execution_count": 16,
   "id": "74132a35",
   "metadata": {},
   "outputs": [
    {
     "name": "stdout",
     "output_type": "stream",
     "text": [
      "[[ 5 20]\n",
      " [15 46]]\n"
     ]
    }
   ],
   "source": [
    "print(arr21)"
   ]
  },
  {
   "cell_type": "code",
   "execution_count": 17,
   "id": "847eca35",
   "metadata": {},
   "outputs": [],
   "source": [
    "arr21 = arr19 @ arr20  #op a func dot"
   ]
  },
  {
   "cell_type": "code",
   "execution_count": 18,
   "id": "3c8d4d3e",
   "metadata": {},
   "outputs": [
    {
     "name": "stdout",
     "output_type": "stream",
     "text": [
      "[[ 5 20]\n",
      " [15 46]]\n"
     ]
    }
   ],
   "source": [
    "print(arr21)"
   ]
  },
  {
   "cell_type": "code",
   "execution_count": 19,
   "id": "8e1cf062",
   "metadata": {},
   "outputs": [],
   "source": [
    "arr21 = dsa.tensordot(arr19, arr20, axes = ((1), (0)))"
   ]
  },
  {
   "cell_type": "code",
   "execution_count": 20,
   "id": "458e08d8",
   "metadata": {},
   "outputs": [
    {
     "name": "stdout",
     "output_type": "stream",
     "text": [
      "[[ 5 20]\n",
      " [15 46]]\n"
     ]
    }
   ],
   "source": [
    "print(arr21)"
   ]
  },
  {
   "cell_type": "markdown",
   "id": "21b6a369",
   "metadata": {},
   "source": [
    "## Slicing de arrays numPy"
   ]
  },
  {
   "cell_type": "code",
   "execution_count": 21,
   "id": "77f52c58",
   "metadata": {},
   "outputs": [],
   "source": [
    "arr22 = dsa.diag(dsa.arange(3)) #cria um array"
   ]
  },
  {
   "cell_type": "code",
   "execution_count": 23,
   "id": "7c8aaa82",
   "metadata": {},
   "outputs": [
    {
     "name": "stdout",
     "output_type": "stream",
     "text": [
      "[[0 0 0]\n",
      " [0 1 0]\n",
      " [0 0 2]]\n"
     ]
    }
   ],
   "source": [
    "print(arr22)"
   ]
  },
  {
   "cell_type": "code",
   "execution_count": 24,
   "id": "51402ed3",
   "metadata": {},
   "outputs": [
    {
     "data": {
      "text/plain": [
       "1"
      ]
     },
     "execution_count": 24,
     "metadata": {},
     "output_type": "execute_result"
    }
   ],
   "source": [
    "arr22[1,1]"
   ]
  },
  {
   "cell_type": "code",
   "execution_count": 26,
   "id": "88dd4ebc",
   "metadata": {},
   "outputs": [
    {
     "data": {
      "text/plain": [
       "2"
      ]
     },
     "execution_count": 26,
     "metadata": {},
     "output_type": "execute_result"
    }
   ],
   "source": [
    "arr22[2, 2]"
   ]
  },
  {
   "cell_type": "code",
   "execution_count": 27,
   "id": "c682e926",
   "metadata": {},
   "outputs": [
    {
     "data": {
      "text/plain": [
       "array([0, 1, 0])"
      ]
     },
     "execution_count": 27,
     "metadata": {},
     "output_type": "execute_result"
    }
   ],
   "source": [
    "arr22[1]"
   ]
  },
  {
   "cell_type": "code",
   "execution_count": 28,
   "id": "7b9ac510",
   "metadata": {},
   "outputs": [
    {
     "data": {
      "text/plain": [
       "array([0, 0, 2])"
      ]
     },
     "execution_count": 28,
     "metadata": {},
     "output_type": "execute_result"
    }
   ],
   "source": [
    "arr22[:, 2]"
   ]
  },
  {
   "cell_type": "code",
   "execution_count": 29,
   "id": "cb767c91",
   "metadata": {},
   "outputs": [],
   "source": [
    "arr23 = dsa.arange(10)"
   ]
  },
  {
   "cell_type": "code",
   "execution_count": 30,
   "id": "4f65ef8e",
   "metadata": {},
   "outputs": [
    {
     "name": "stdout",
     "output_type": "stream",
     "text": [
      "[0 1 2 3 4 5 6 7 8 9]\n"
     ]
    }
   ],
   "source": [
    "print(arr23)"
   ]
  },
  {
   "cell_type": "code",
   "execution_count": 31,
   "id": "96155f25",
   "metadata": {},
   "outputs": [
    {
     "data": {
      "text/plain": [
       "array([2, 5, 8])"
      ]
     },
     "execution_count": 31,
     "metadata": {},
     "output_type": "execute_result"
    }
   ],
   "source": [
    "arr23[2:9:3]  # start:end:step  -- tudo entre 2 e 9, saltando de 3 em 3"
   ]
  },
  {
   "cell_type": "code",
   "execution_count": 32,
   "id": "b1f28565",
   "metadata": {},
   "outputs": [],
   "source": [
    "a = dsa.array([1, 2, 3, 4])\n",
    "b = dsa.array([4, 2, 2, 4])"
   ]
  },
  {
   "cell_type": "code",
   "execution_count": 33,
   "id": "56c28333",
   "metadata": {},
   "outputs": [
    {
     "data": {
      "text/plain": [
       "array([False,  True, False,  True])"
      ]
     },
     "execution_count": 33,
     "metadata": {},
     "output_type": "execute_result"
    }
   ],
   "source": [
    "a == b   # comparaçcao item a item"
   ]
  },
  {
   "cell_type": "code",
   "execution_count": 34,
   "id": "43511b19",
   "metadata": {},
   "outputs": [
    {
     "data": {
      "text/plain": [
       "False"
      ]
     },
     "execution_count": 34,
     "metadata": {},
     "output_type": "execute_result"
    }
   ],
   "source": [
    "dsa.array_equal(arr22, arr23)"
   ]
  },
  {
   "cell_type": "code",
   "execution_count": 35,
   "id": "b9728d47",
   "metadata": {},
   "outputs": [
    {
     "data": {
      "text/plain": [
       "0"
      ]
     },
     "execution_count": 35,
     "metadata": {},
     "output_type": "execute_result"
    }
   ],
   "source": [
    "arr23.min()"
   ]
  },
  {
   "cell_type": "code",
   "execution_count": 36,
   "id": "9f1a5cfc",
   "metadata": {},
   "outputs": [
    {
     "data": {
      "text/plain": [
       "9"
      ]
     },
     "execution_count": 36,
     "metadata": {},
     "output_type": "execute_result"
    }
   ],
   "source": [
    "arr23.max()"
   ]
  },
  {
   "cell_type": "code",
   "execution_count": 37,
   "id": "9fe4883b",
   "metadata": {},
   "outputs": [
    {
     "data": {
      "text/plain": [
       "array([2.5, 3.5, 4.5])"
      ]
     },
     "execution_count": 37,
     "metadata": {},
     "output_type": "execute_result"
    }
   ],
   "source": [
    "dsa.array([1, 2, 3]) + 1.5  # somando um valor a cada array"
   ]
  },
  {
   "cell_type": "code",
   "execution_count": 38,
   "id": "3b8831ed",
   "metadata": {},
   "outputs": [],
   "source": [
    "arr24 = dsa.array([1.2, 1.5, 1.6, 2.5, 3.5, 4.5])"
   ]
  },
  {
   "cell_type": "code",
   "execution_count": 39,
   "id": "04e525e8",
   "metadata": {},
   "outputs": [],
   "source": [
    "arr25 = dsa.around(arr24)   #método around para arredondar"
   ]
  },
  {
   "cell_type": "code",
   "execution_count": 40,
   "id": "efa8d238",
   "metadata": {},
   "outputs": [
    {
     "name": "stdout",
     "output_type": "stream",
     "text": [
      "[1. 2. 2. 2. 4. 4.]\n"
     ]
    }
   ],
   "source": [
    "print(arr25)"
   ]
  },
  {
   "cell_type": "code",
   "execution_count": 42,
   "id": "65b4b583",
   "metadata": {},
   "outputs": [],
   "source": [
    "arr26 = dsa.array([[1,2,3,4], [5,6,7,8]])"
   ]
  },
  {
   "cell_type": "code",
   "execution_count": 43,
   "id": "44a42cf5",
   "metadata": {},
   "outputs": [
    {
     "name": "stdout",
     "output_type": "stream",
     "text": [
      "[[1 2 3 4]\n",
      " [5 6 7 8]]\n"
     ]
    }
   ],
   "source": [
    "print(arr26)"
   ]
  },
  {
   "cell_type": "code",
   "execution_count": 44,
   "id": "c33347d1",
   "metadata": {},
   "outputs": [],
   "source": [
    "arr27 = arr26.flatten()  # achatando a matriz"
   ]
  },
  {
   "cell_type": "code",
   "execution_count": 45,
   "id": "9435f2fc",
   "metadata": {},
   "outputs": [
    {
     "name": "stdout",
     "output_type": "stream",
     "text": [
      "[1 2 3 4 5 6 7 8]\n"
     ]
    }
   ],
   "source": [
    "print(arr27)"
   ]
  },
  {
   "cell_type": "code",
   "execution_count": 46,
   "id": "54143e89",
   "metadata": {},
   "outputs": [],
   "source": [
    "arr28 = dsa.array([1, 2, 3])"
   ]
  },
  {
   "cell_type": "code",
   "execution_count": 47,
   "id": "23447d1c",
   "metadata": {},
   "outputs": [
    {
     "name": "stdout",
     "output_type": "stream",
     "text": [
      "[1 2 3]\n"
     ]
    }
   ],
   "source": [
    "print(arr28)"
   ]
  },
  {
   "cell_type": "code",
   "execution_count": 48,
   "id": "88b3600c",
   "metadata": {},
   "outputs": [
    {
     "data": {
      "text/plain": [
       "array([1, 1, 1, 2, 2, 2, 3, 3, 3])"
      ]
     },
     "execution_count": 48,
     "metadata": {},
     "output_type": "execute_result"
    }
   ],
   "source": [
    "dsa.repeat(arr28, 3)  # repetindo os elementos de um array"
   ]
  },
  {
   "cell_type": "code",
   "execution_count": 50,
   "id": "4c2f69b5",
   "metadata": {},
   "outputs": [
    {
     "data": {
      "text/plain": [
       "array([1, 2, 3, 1, 2, 3, 1, 2, 3])"
      ]
     },
     "execution_count": 50,
     "metadata": {},
     "output_type": "execute_result"
    }
   ],
   "source": [
    "dsa.tile(arr28,3)  # repetindo os elements de um array"
   ]
  },
  {
   "cell_type": "code",
   "execution_count": 51,
   "id": "a66ba77d",
   "metadata": {},
   "outputs": [],
   "source": [
    "arr29 = dsa.array([5, 6])"
   ]
  },
  {
   "cell_type": "code",
   "execution_count": 53,
   "id": "fe035eab",
   "metadata": {},
   "outputs": [],
   "source": [
    "arr30 = dsa.copy(arr29)"
   ]
  },
  {
   "cell_type": "code",
   "execution_count": 54,
   "id": "001abf27",
   "metadata": {},
   "outputs": [
    {
     "name": "stdout",
     "output_type": "stream",
     "text": [
      "[5 6]\n"
     ]
    }
   ],
   "source": [
    "print(arr30)"
   ]
  },
  {
   "cell_type": "code",
   "execution_count": null,
   "id": "09151a47",
   "metadata": {},
   "outputs": [],
   "source": [
    " "
   ]
  }
 ],
 "metadata": {
  "kernelspec": {
   "display_name": "Python 3 (ipykernel)",
   "language": "python",
   "name": "python3"
  },
  "language_info": {
   "codemirror_mode": {
    "name": "ipython",
    "version": 3
   },
   "file_extension": ".py",
   "mimetype": "text/x-python",
   "name": "python",
   "nbconvert_exporter": "python",
   "pygments_lexer": "ipython3",
   "version": "3.9.12"
  }
 },
 "nbformat": 4,
 "nbformat_minor": 5
}
