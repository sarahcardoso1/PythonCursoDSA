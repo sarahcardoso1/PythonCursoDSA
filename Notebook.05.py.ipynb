{
 "cells": [
  {
   "cell_type": "markdown",
   "id": "6545fed1",
   "metadata": {},
   "source": [
    "# CAP 05"
   ]
  },
  {
   "cell_type": "markdown",
   "id": "7ac85124",
   "metadata": {},
   "source": [
    "## condicional if"
   ]
  },
  {
   "cell_type": "code",
   "execution_count": 3,
   "id": "b96be7de",
   "metadata": {},
   "outputs": [
    {
     "name": "stdout",
     "output_type": "stream",
     "text": [
      "Verdadeiro\n"
     ]
    }
   ],
   "source": [
    "# Condicional if \n",
    "if 5 > 2:\n",
    "    print('Verdadeiro')\n",
    "else:\n",
    "    print('Falso')"
   ]
  },
  {
   "cell_type": "code",
   "execution_count": 4,
   "id": "3859fc10",
   "metadata": {},
   "outputs": [
    {
     "name": "stdout",
     "output_type": "stream",
     "text": [
      "vai chover\n"
     ]
    }
   ],
   "source": [
    "# condicional if else com variavel\n",
    "dia = 'Terça'\n",
    "if dia == 'Segunda':\n",
    "    print('fará Sol')\n",
    "else:\n",
    "    print('vai chover')"
   ]
  },
  {
   "cell_type": "code",
   "execution_count": 6,
   "id": "018f224d",
   "metadata": {},
   "outputs": [
    {
     "name": "stdout",
     "output_type": "stream",
     "text": [
      "fará Sol\n"
     ]
    }
   ],
   "source": [
    "# condicional if else com variavel\n",
    "dia = 'Segunda'\n",
    "if dia == 'Segunda':\n",
    "    print('fará Sol')\n",
    "elif dia == 'Terça':\n",
    "    print('vai chover')\n",
    "else: \n",
    "    print('Sem previsâo do tempo')"
   ]
  },
  {
   "cell_type": "code",
   "execution_count": 7,
   "id": "63e2d7b3",
   "metadata": {},
   "outputs": [
    {
     "name": "stdout",
     "output_type": "stream",
     "text": [
      "dhiogo é um franguinho\n"
     ]
    }
   ],
   "source": [
    "dhiogo = 'frango'\n",
    "if dhiogo == 'frango':\n",
    "    print('dhiogo é um franguinho')\n",
    "elif dhiogo == 'daddy':\n",
    "    print('good way 2 go')"
   ]
  },
  {
   "cell_type": "markdown",
   "id": "80c211fb",
   "metadata": {},
   "source": [
    " ## Operadores Relacionais"
   ]
  },
  {
   "cell_type": "code",
   "execution_count": 8,
   "id": "5541fe64",
   "metadata": {},
   "outputs": [
    {
     "data": {
      "text/plain": [
       "True"
      ]
     },
     "execution_count": 8,
     "metadata": {},
     "output_type": "execute_result"
    }
   ],
   "source": [
    "6 > 3"
   ]
  },
  {
   "cell_type": "code",
   "execution_count": 9,
   "id": "e3283759",
   "metadata": {},
   "outputs": [
    {
     "data": {
      "text/plain": [
       "False"
      ]
     },
     "execution_count": 9,
     "metadata": {},
     "output_type": "execute_result"
    }
   ],
   "source": [
    "4 > 7"
   ]
  },
  {
   "cell_type": "code",
   "execution_count": 10,
   "id": "3f752383",
   "metadata": {},
   "outputs": [
    {
     "data": {
      "text/plain": [
       "False"
      ]
     },
     "execution_count": 10,
     "metadata": {},
     "output_type": "execute_result"
    }
   ],
   "source": [
    "3 == 5"
   ]
  },
  {
   "cell_type": "code",
   "execution_count": 12,
   "id": "9d2bbc7c",
   "metadata": {},
   "outputs": [
    {
     "name": "stdout",
     "output_type": "stream",
     "text": [
      "they´re equal\n"
     ]
    }
   ],
   "source": [
    "if 5 == 5:\n",
    "    print('they´re equal')"
   ]
  },
  {
   "cell_type": "code",
   "execution_count": 13,
   "id": "0234a2a0",
   "metadata": {},
   "outputs": [
    {
     "name": "stdout",
     "output_type": "stream",
     "text": [
      "yass queen\n"
     ]
    }
   ],
   "source": [
    "if True: \n",
    "    print('yass queen')"
   ]
  },
  {
   "cell_type": "code",
   "execution_count": 14,
   "id": "22ebd856",
   "metadata": {},
   "outputs": [
    {
     "data": {
      "text/plain": [
       "True"
      ]
     },
     "execution_count": 14,
     "metadata": {},
     "output_type": "execute_result"
    }
   ],
   "source": [
    "4 >= 4"
   ]
  },
  {
   "cell_type": "markdown",
   "id": "3368b3f6",
   "metadata": {},
   "source": [
    "### ATENÇAO COM A SINTAXE"
   ]
  },
  {
   "cell_type": "markdown",
   "id": "e01ff278",
   "metadata": {},
   "source": [
    "## Condicionais aninhados"
   ]
  },
  {
   "cell_type": "code",
   "execution_count": 25,
   "id": "42c3a1f1",
   "metadata": {},
   "outputs": [
    {
     "name": "stdout",
     "output_type": "stream",
     "text": [
      "go on hunny\n"
     ]
    }
   ],
   "source": [
    "idade = 18\n",
    "if idade > 17:\n",
    "    print('go on hunny')"
   ]
  },
  {
   "cell_type": "code",
   "execution_count": 27,
   "id": "a22810b2",
   "metadata": {},
   "outputs": [
    {
     "name": "stdout",
     "output_type": "stream",
     "text": [
      "Welcome in BOB\n"
     ]
    }
   ],
   "source": [
    "Nome = 'Bob'\n",
    "if idade > 13:\n",
    "    if Nome == 'Bob':\n",
    "        print('Welcome in BOB')\n",
    "    else: \n",
    "        print('Srry cant come in')\n",
    "    "
   ]
  },
  {
   "cell_type": "code",
   "execution_count": 29,
   "id": "53ade004",
   "metadata": {},
   "outputs": [
    {
     "name": "stdout",
     "output_type": "stream",
     "text": [
      "Welcome in\n"
     ]
    }
   ],
   "source": [
    "idade = 13\n",
    "Nome = 'Bob'\n",
    "if idade >= 13 and Nome == 'Bob':\n",
    "    print('Welcome in')"
   ]
  },
  {
   "cell_type": "code",
   "execution_count": 31,
   "id": "9a8c0093",
   "metadata": {},
   "outputs": [
    {
     "name": "stdout",
     "output_type": "stream",
     "text": [
      "you´re ded\n"
     ]
    }
   ],
   "source": [
    "idade = 15\n",
    "Nome = 'Barb'\n",
    "if idade >= 15 and Nome == 'Barb':\n",
    "    print('you´re ded')"
   ]
  },
  {
   "cell_type": "code",
   "execution_count": 32,
   "id": "8f586621",
   "metadata": {},
   "outputs": [
    {
     "name": "stdout",
     "output_type": "stream",
     "text": [
      "c´mon\n"
     ]
    }
   ],
   "source": [
    "idade = 12 \n",
    "Nome = 'Bob'\n",
    "if (idade >= 13) or (Nome == 'Bob'):\n",
    "    print('c´mon')"
   ]
  },
  {
   "cell_type": "markdown",
   "id": "088db6af",
   "metadata": {},
   "source": [
    "## Operadores lógicos"
   ]
  },
  {
   "cell_type": "code",
   "execution_count": 33,
   "id": "d4c7828a",
   "metadata": {},
   "outputs": [
    {
     "name": "stdout",
     "output_type": "stream",
     "text": [
      "go ahead\n"
     ]
    }
   ],
   "source": [
    "idade = 18\n",
    "nome = 'Bob'\n",
    "if idade > 17:\n",
    "    print('go ahead')"
   ]
  },
  {
   "cell_type": "code",
   "execution_count": 35,
   "id": "145851c5",
   "metadata": {},
   "outputs": [
    {
     "name": "stdout",
     "output_type": "stream",
     "text": [
      "go ahead\n"
     ]
    }
   ],
   "source": [
    "idade = 18\n",
    "if idade > 17 and nome == 'Bob':\n",
    "    print('go ahead')"
   ]
  },
  {
   "cell_type": "code",
   "execution_count": 36,
   "id": "c5f19792",
   "metadata": {},
   "outputs": [
    {
     "name": "stdout",
     "output_type": "stream",
     "text": [
      "ok\n"
     ]
    }
   ],
   "source": [
    "# and\n",
    "\n",
    "numero = 4\n",
    "if (numero > 2) and (numero % 2 == 0):\n",
    "    print('ok')"
   ]
  },
  {
   "cell_type": "code",
   "execution_count": 37,
   "id": "56762ed0",
   "metadata": {},
   "outputs": [
    {
     "name": "stdout",
     "output_type": "stream",
     "text": [
      "not ok\n"
     ]
    }
   ],
   "source": [
    "# and\n",
    "\n",
    "numero = 4\n",
    "if (numero > 5) and (numero % 2 == 0):\n",
    "    print('ok')\n",
    "else:\n",
    "    print('not ok')"
   ]
  },
  {
   "cell_type": "code",
   "execution_count": 38,
   "id": "de15d30c",
   "metadata": {},
   "outputs": [
    {
     "name": "stdout",
     "output_type": "stream",
     "text": [
      "ok\n"
     ]
    }
   ],
   "source": [
    "# operador or \n",
    "\n",
    "# and\n",
    "\n",
    "numero = 4\n",
    "if (numero > 5) or (numero % 2 == 0):\n",
    "    print('ok')"
   ]
  },
  {
   "cell_type": "code",
   "execution_count": 39,
   "id": "3d9683c8",
   "metadata": {},
   "outputs": [
    {
     "name": "stdout",
     "output_type": "stream",
     "text": [
      "ok\n"
     ]
    }
   ],
   "source": [
    "# operador not \n",
    "\n",
    "\n",
    "numero = 4\n",
    "if not(numero > 5) and (numero % 2 == 0):\n",
    "    print('ok')\n",
    "else: \n",
    "    print('not ok')"
   ]
  },
  {
   "cell_type": "code",
   "execution_count": 40,
   "id": "a31538b8",
   "metadata": {},
   "outputs": [
    {
     "name": "stdout",
     "output_type": "stream",
     "text": [
      "ok\n"
     ]
    }
   ],
   "source": [
    "# operador and, or e not \n",
    "\n",
    "numero = 4\n",
    "\n",
    "if(not(numero > 5) and (numero % 2 == 0)) or (numero == 4):\n",
    "    print('ok')"
   ]
  },
  {
   "cell_type": "code",
   "execution_count": 41,
   "id": "ca22398a",
   "metadata": {},
   "outputs": [
    {
     "name": "stdout",
     "output_type": "stream",
     "text": [
      "yass queen\n"
     ]
    }
   ],
   "source": [
    "# Exemplo com variáveis \n",
    "\n",
    "disciplina = 'DS'\n",
    "nota_final = 70 \n",
    "\n",
    "if disciplina == 'DS' and nota_final >= 70:\n",
    "    print('yass queen')\n",
    "else: \n",
    "    print('bruh?')"
   ]
  },
  {
   "cell_type": "code",
   "execution_count": 42,
   "id": "9e7771bf",
   "metadata": {},
   "outputs": [
    {
     "name": "stdout",
     "output_type": "stream",
     "text": [
      "bruh?\n"
     ]
    }
   ],
   "source": [
    "disciplina = 'DS'\n",
    "nota_final = 60 \n",
    "\n",
    "if disciplina == 'DS' and nota_final >= 70:\n",
    "    print('yass queen')\n",
    "else: \n",
    "    print('bruh?')"
   ]
  },
  {
   "cell_type": "code",
   "execution_count": 43,
   "id": "a62e7786",
   "metadata": {},
   "outputs": [
    {
     "name": "stdout",
     "output_type": "stream",
     "text": [
      "vc foi aprovado em DS com média final 90\n"
     ]
    }
   ],
   "source": [
    "# Usando mais de uma condiçâo na cláusula if e introduzindo placeholders\n",
    "\n",
    "disciplina = 'DS'\n",
    "nota_final = 90\n",
    "semestre = 2\n",
    "\n",
    "if disciplina == 'DS' and nota_final >= 80 and semestre != 1:\n",
    "    print('vc foi aprovado em %s com média final %r' %(disciplina, nota_final))\n",
    "else: \n",
    "    print('sorry bruv')"
   ]
  },
  {
   "cell_type": "markdown",
   "id": "6cb7fbca",
   "metadata": {},
   "source": [
    "## LOOP FOR"
   ]
  },
  {
   "cell_type": "code",
   "execution_count": 44,
   "id": "c5c60dcd",
   "metadata": {},
   "outputs": [
    {
     "name": "stdout",
     "output_type": "stream",
     "text": [
      "2\n",
      "3\n",
      "4\n"
     ]
    }
   ],
   "source": [
    "# criando uma tp e print values \n",
    "tp = (2,3,4)\n",
    "for i in tp: \n",
    "    print(i)"
   ]
  },
  {
   "cell_type": "code",
   "execution_count": 46,
   "id": "f937b57a",
   "metadata": {},
   "outputs": [
    {
     "name": "stdout",
     "output_type": "stream",
     "text": [
      "Data\n",
      "Science\n",
      "Academy\n"
     ]
    }
   ],
   "source": [
    "# criando uma lista e imprimindo valores \n",
    "ListaDeStrings = ['Data', 'Science', 'Academy']\n",
    "for i in ListaDeStrings:\n",
    "    print(i)"
   ]
  },
  {
   "cell_type": "code",
   "execution_count": 47,
   "id": "598d08a4",
   "metadata": {},
   "outputs": [
    {
     "name": "stdout",
     "output_type": "stream",
     "text": [
      "eu\n",
      "to\n",
      "cansada\n"
     ]
    }
   ],
   "source": [
    "lista = ['eu', 'to', 'cansada']\n",
    "for i in lista:\n",
    "    print(i)"
   ]
  },
  {
   "cell_type": "code",
   "execution_count": 48,
   "id": "20b0e0e0",
   "metadata": {},
   "outputs": [
    {
     "name": "stdout",
     "output_type": "stream",
     "text": [
      "0\n",
      "1\n",
      "2\n",
      "3\n",
      "4\n"
     ]
    }
   ],
   "source": [
    "# imprimindo os valores no intervalo entre 0 e 5 (exclusive)\n",
    "# 5 é exclusivo\n",
    "\n",
    "for contador in range(0,5):\n",
    "    print(contador)"
   ]
  },
  {
   "cell_type": "code",
   "execution_count": 49,
   "id": "bf1a7fd2",
   "metadata": {},
   "outputs": [
    {
     "name": "stdout",
     "output_type": "stream",
     "text": [
      "2\n",
      "4\n",
      "6\n",
      "8\n",
      "10\n"
     ]
    }
   ],
   "source": [
    "lista = [1,2,3,4,5,6,7,8,9,10]\n",
    "for num in lista:\n",
    "    if num % 2 == 0:\n",
    "        print(num)"
   ]
  },
  {
   "cell_type": "code",
   "execution_count": 50,
   "id": "12ca4b0b",
   "metadata": {},
   "outputs": [
    {
     "name": "stdout",
     "output_type": "stream",
     "text": [
      "0\n",
      "2\n",
      "4\n",
      "6\n",
      "8\n",
      "10\n",
      "12\n",
      "14\n",
      "16\n",
      "18\n",
      "20\n",
      "22\n",
      "24\n",
      "26\n",
      "28\n",
      "30\n",
      "32\n",
      "34\n",
      "36\n",
      "38\n",
      "40\n",
      "42\n",
      "44\n",
      "46\n",
      "48\n",
      "50\n",
      "52\n",
      "54\n",
      "56\n",
      "58\n",
      "60\n",
      "62\n",
      "64\n",
      "66\n",
      "68\n",
      "70\n",
      "72\n",
      "74\n",
      "76\n",
      "78\n",
      "80\n",
      "82\n",
      "84\n",
      "86\n",
      "88\n",
      "90\n",
      "92\n",
      "94\n",
      "96\n",
      "98\n",
      "100\n"
     ]
    }
   ],
   "source": [
    "for i in range(0,101,2):\n",
    "    print(i)"
   ]
  },
  {
   "cell_type": "code",
   "execution_count": 52,
   "id": "7b6d43bb",
   "metadata": {},
   "outputs": [
    {
     "name": "stdout",
     "output_type": "stream",
     "text": [
      "P\n",
      "y\n",
      "t\n",
      "h\n",
      "o\n",
      "n\n",
      " \n",
      "é\n",
      " \n",
      "u\n",
      "m\n",
      "a\n",
      " \n",
      "l\n",
      "i\n",
      "n\n",
      "g\n",
      "u\n",
      "a\n",
      "g\n",
      "e\n",
      "m\n",
      " \n",
      "d\n",
      "e\n",
      " \n",
      "p\n",
      "r\n",
      "o\n",
      "g\n",
      "r\n",
      "a\n",
      "m\n",
      "a\n",
      "ç\n",
      "â\n",
      "o\n",
      " \n",
      "d\n",
      "i\n",
      "v\n",
      "e\n",
      "r\n",
      "t\n",
      "i\n",
      "d\n",
      "a\n"
     ]
    }
   ],
   "source": [
    "for caracter in 'Python é uma linguagem de programaçâo divertida':\n",
    "    print(caracter)"
   ]
  },
  {
   "cell_type": "markdown",
   "id": "e8209b26",
   "metadata": {},
   "source": [
    "## LOOP FOR ANINHADO"
   ]
  },
  {
   "cell_type": "code",
   "execution_count": 53,
   "id": "4081a951",
   "metadata": {},
   "outputs": [
    {
     "name": "stdout",
     "output_type": "stream",
     "text": [
      "\n",
      " 0\n",
      "\n",
      " 0\n",
      "\n",
      " 0\n",
      "----\n",
      "\n",
      " 1\n",
      "\n",
      " 2\n",
      "\n",
      " 3\n",
      "----\n",
      "\n",
      " 2\n",
      "\n",
      " 4\n",
      "\n",
      " 6\n",
      "----\n",
      "\n",
      " 3\n",
      "\n",
      " 6\n",
      "\n",
      " 9\n",
      "----\n",
      "\n",
      " 4\n",
      "\n",
      " 8\n",
      "\n",
      " 12\n",
      "----\n"
     ]
    }
   ],
   "source": [
    "lista1 = [0,1,2,3,4]\n",
    "lista2 = [1,2,3]\n",
    "\n",
    "# loop externo\n",
    "for elemento_lista1 in lista1: \n",
    "    \n",
    "    # Loop interno\n",
    "    for elemento_lista2 in lista2:\n",
    "        \n",
    "        print('\\n', elemento_lista1 * elemento_lista2)\n",
    "        \n",
    "    print('----')"
   ]
  },
  {
   "cell_type": "code",
   "execution_count": 55,
   "id": "c6113106",
   "metadata": {},
   "outputs": [
    {
     "name": "stdout",
     "output_type": "stream",
     "text": [
      "O numero 47 foi encontrado nas duas\n"
     ]
    }
   ],
   "source": [
    "# o numero 47 aparece nas duas listas?\n",
    "\n",
    "lista1 = [10,16,24,39,47]\n",
    "lista2 = [32,89,47,76,12]\n",
    "\n",
    "#loop externo \n",
    "for elemento_lista1 in lista1:\n",
    "    \n",
    "    #loop interno \n",
    "    for elemento_lista2 in lista2:\n",
    "        \n",
    "        # condicional \n",
    "        if elemento_lista1 == 47 and elemento_lista2 == 47:\n",
    "            \n",
    "            print('O numero 47 foi encontrado nas duas')"
   ]
  },
  {
   "cell_type": "code",
   "execution_count": 58,
   "id": "e97ad80d",
   "metadata": {},
   "outputs": [],
   "source": [
    "for elemento_lista1 in lista1:\n",
    "    \n",
    "    for elemento_lista2 in lista2:\n",
    "        \n",
    "        if elemento_lista1 == 16 and elemento_lista2 == 16:\n",
    "            \n",
    "            print('achei')"
   ]
  },
  {
   "cell_type": "code",
   "execution_count": 62,
   "id": "5893da88",
   "metadata": {},
   "outputs": [
    {
     "name": "stdout",
     "output_type": "stream",
     "text": [
      "O soma dos numeros pares das duas linhas é igual a 12\n"
     ]
    }
   ],
   "source": [
    "# some os numeros pares da primeira lista com os numeros da segunda lista \n",
    "\n",
    "lista1 = [10,16,24,39,47]\n",
    "lista2 = [32,89,47,76,12]\n",
    "soma = 0 \n",
    "\n",
    "# loop externo \n",
    "for lista in (lista1, lista2):\n",
    "    \n",
    "    # loop interno\n",
    "    for num in lista:\n",
    "        \n",
    "        # condicional \n",
    "        if num % 2 == 0:\n",
    "            soma += num\n",
    "            \n",
    "print('O soma dos numeros pares das duas linhas é igual a', soma)"
   ]
  },
  {
   "cell_type": "code",
   "execution_count": 63,
   "id": "b5253454",
   "metadata": {},
   "outputs": [
    {
     "data": {
      "text/plain": [
       "[10, 16, 24, 39, 47, 32, 89, 47, 76, 12]"
      ]
     },
     "execution_count": 63,
     "metadata": {},
     "output_type": "execute_result"
    }
   ],
   "source": [
    "# listas podem ser concatenadas em Python\n",
    "lista1 + lista2"
   ]
  },
  {
   "cell_type": "code",
   "execution_count": 65,
   "id": "4e8e1dc8",
   "metadata": {},
   "outputs": [
    {
     "name": "stdout",
     "output_type": "stream",
     "text": [
      "Soma dos valores pares: 170\n"
     ]
    }
   ],
   "source": [
    "# some os numeros pares daprimeira lista com os numeros pares da segunda\n",
    "\n",
    "lista1 = [10,16,24,39,47]\n",
    "lista2 = [32,89,47,76,12]\n",
    "soma = 0 \n",
    "\n",
    "for num in lista1 + lista2: \n",
    "    if num % 2 == 0:\n",
    "        soma += num \n",
    "    \n",
    "print('Soma dos valores pares:', soma)"
   ]
  },
  {
   "cell_type": "code",
   "execution_count": 67,
   "id": "a181fc2d",
   "metadata": {},
   "outputs": [
    {
     "name": "stdout",
     "output_type": "stream",
     "text": [
      "Soma dos valores divisiveis por 5: 10\n"
     ]
    }
   ],
   "source": [
    "lista1 = [10,16,24,39,47]\n",
    "lista2 = [32,89,47,76,12]\n",
    "soma = 0 \n",
    "\n",
    "for num in lista1 + lista2:\n",
    "    if num % 5 == 0:\n",
    "        soma += num\n",
    "        \n",
    "print('Soma dos valores divisiveis por 5:', soma)"
   ]
  },
  {
   "cell_type": "code",
   "execution_count": 69,
   "id": "0156023b",
   "metadata": {},
   "outputs": [
    {
     "name": "stdout",
     "output_type": "stream",
     "text": [
      "Maior número: 215\n"
     ]
    }
   ],
   "source": [
    "# Loop em lista de listas (matrizes) para encontrar o maior numero \n",
    "\n",
    "matriz = [[42, 23, 34], [100, 215,114], [10.1,98.7,12.3]]\n",
    "maior_numero = 0\n",
    "\n",
    "# loop externo \n",
    "for linha in matriz:\n",
    "    \n",
    "    # loop interno\n",
    "    for num in linha:\n",
    "        \n",
    "        # Condicional \n",
    "        if num > maior_numero:\n",
    "            maior_numero = num \n",
    "\n",
    "print('Maior número:', maior_numero)"
   ]
  },
  {
   "cell_type": "code",
   "execution_count": 71,
   "id": "c1e34d93",
   "metadata": {},
   "outputs": [
    {
     "name": "stdout",
     "output_type": "stream",
     "text": [
      "k1\n",
      "k2\n",
      "k3\n"
     ]
    }
   ],
   "source": [
    "# Listando as chaves de um dicionário \n",
    "dict = {'k1':'Python', 'k2':'r', 'k3':'Scala'}\n",
    "for i in dict:\n",
    "    print(i)"
   ]
  },
  {
   "cell_type": "code",
   "execution_count": 72,
   "id": "84ae0e81",
   "metadata": {},
   "outputs": [
    {
     "name": "stdout",
     "output_type": "stream",
     "text": [
      "k1 Python\n",
      "k2 r\n",
      "k3 Scala\n"
     ]
    }
   ],
   "source": [
    "# imprimindo chave a valor do dicionário usando o étodo items() para retornar os itens de um dicionário \n",
    "for k,v in dict.items():\n",
    "    print (k,v)"
   ]
  },
  {
   "cell_type": "markdown",
   "id": "e542a67e",
   "metadata": {},
   "source": [
    "# Loop While"
   ]
  },
  {
   "cell_type": "markdown",
   "id": "7556426f",
   "metadata": {},
   "source": [
    "garantir que a condiçao deixara de ser verdadeira, cabe ao dev fazer isso "
   ]
  },
  {
   "cell_type": "code",
   "execution_count": 73,
   "id": "5303a052",
   "metadata": {},
   "outputs": [
    {
     "name": "stdout",
     "output_type": "stream",
     "text": [
      "0\n",
      "1\n",
      "2\n",
      "3\n",
      "4\n",
      "5\n",
      "6\n",
      "7\n",
      "8\n",
      "9\n"
     ]
    }
   ],
   "source": [
    "# para imprimir os valores de 0 a 9 \n",
    "# a condiçâo tem que deixar de ser verdadeira dentro do loop\n",
    "\n",
    "valor = 0 \n",
    "while valor < 10:\n",
    "    print(valor)\n",
    "    valor = valor + 1"
   ]
  },
  {
   "cell_type": "code",
   "execution_count": 74,
   "id": "691883ad",
   "metadata": {},
   "outputs": [],
   "source": [
    "# entra no loop somente se a condiçâo for verdadeira\n",
    "\n",
    "valor = 11\n",
    "while valor < 10:\n",
    "    print(valor)\n",
    "    valor = valor + 1"
   ]
  },
  {
   "cell_type": "code",
   "execution_count": 76,
   "id": "1da79acf",
   "metadata": {},
   "outputs": [
    {
     "name": "stdout",
     "output_type": "stream",
     "text": [
      "O valor de x nesta iteraçâo é:  0\n",
      " x ainda é menor que 10, somando 1 a x\n",
      "O valor de x nesta iteraçâo é:  1\n",
      " x ainda é menor que 10, somando 1 a x\n",
      "O valor de x nesta iteraçâo é:  2\n",
      " x ainda é menor que 10, somando 1 a x\n",
      "O valor de x nesta iteraçâo é:  3\n",
      " x ainda é menor que 10, somando 1 a x\n",
      "O valor de x nesta iteraçâo é:  4\n",
      " x ainda é menor que 10, somando 1 a x\n",
      "O valor de x nesta iteraçâo é:  5\n",
      " x ainda é menor que 10, somando 1 a x\n",
      "O valor de x nesta iteraçâo é:  6\n",
      " x ainda é menor que 10, somando 1 a x\n",
      "O valor de x nesta iteraçâo é:  7\n",
      " x ainda é menor que 10, somando 1 a x\n",
      "O valor de x nesta iteraçâo é:  8\n",
      " x ainda é menor que 10, somando 1 a x\n",
      "O valor de x nesta iteraçâo é:  9\n",
      " x ainda é menor que 10, somando 1 a x\n",
      "Loop concluído!\n",
      "10\n"
     ]
    }
   ],
   "source": [
    "# utilizando cláusula else \n",
    "\n",
    "x = 0 \n",
    "\n",
    "while x < 10:\n",
    "    print('O valor de x nesta iteraçâo é: ', x)\n",
    "    print(' x ainda é menor que 10, somando 1 a x')\n",
    "    x += 1\n",
    "else: \n",
    "    print('Loop concluído!')\n",
    "print(x)"
   ]
  },
  {
   "cell_type": "markdown",
   "id": "623615fb",
   "metadata": {},
   "source": [
    "## Pass, break, continue"
   ]
  },
  {
   "cell_type": "code",
   "execution_count": 77,
   "id": "8409970f",
   "metadata": {},
   "outputs": [
    {
     "name": "stdout",
     "output_type": "stream",
     "text": [
      "0\n",
      "1\n",
      "2\n",
      "3\n"
     ]
    }
   ],
   "source": [
    "# se encontrarmos o numero 4 interrompemos o loop \n",
    "\n",
    "valor = 0\n",
    "while valor < 10:\n",
    "    if valor == 4:\n",
    "        break \n",
    "    else:\n",
    "        pass\n",
    "    print(valor)\n",
    "    valor = valor + 1"
   ]
  },
  {
   "cell_type": "code",
   "execution_count": 79,
   "id": "264e270e",
   "metadata": {},
   "outputs": [
    {
     "name": "stdout",
     "output_type": "stream",
     "text": [
      "P\n",
      "y\n",
      "t\n",
      "h\n",
      "o\n",
      "n\n",
      " \n",
      "é\n",
      " \n",
      " \n",
      "i\n",
      "n\n",
      "c\n",
      "r\n",
      "í\n",
      "v\n",
      "e\n",
      "l\n"
     ]
    }
   ],
   "source": [
    "# desconsideramos a letra z ao imprimir caractreres de uma frase\n",
    "for letra in 'Python é zzz incrível' :\n",
    "    if letra == 'z':\n",
    "        continue \n",
    "    print(letra)"
   ]
  },
  {
   "cell_type": "code",
   "execution_count": 80,
   "id": "66dc25e4",
   "metadata": {},
   "outputs": [
    {
     "name": "stdout",
     "output_type": "stream",
     "text": [
      "0\n",
      "1\n",
      "2\n",
      "3\n",
      "4\n",
      "5\n"
     ]
    }
   ],
   "source": [
    " # encontra 6 e interrompe \n",
    "    \n",
    "valor = 0 \n",
    "while valor < 10:\n",
    "    if valor == 6:\n",
    "        break\n",
    "    else: \n",
    "        pass\n",
    "    print(valor)\n",
    "    valor = valor + 1"
   ]
  },
  {
   "cell_type": "markdown",
   "id": "b65d01bd",
   "metadata": {},
   "source": [
    "## Loop for e while "
   ]
  },
  {
   "cell_type": "markdown",
   "id": "60e1a1ef",
   "metadata": {},
   "source": [
    "encontrando numeros primos "
   ]
  },
  {
   "cell_type": "markdown",
   "id": "35bb4e33",
   "metadata": {},
   "source": [
    "Pseudocodigo:  "
   ]
  },
  {
   "cell_type": "markdown",
   "id": "a0f44fa2",
   "metadata": {},
   "source": [
    "Inicialize uma lista vazia para armazenar os numeros primos \n",
    "Para cada número N entre 2 e 30:\n",
    "    Inicialize uma variável eh_primo como verdadeira \n",
    "    Para cada número i entre 2 e N/2:\n",
    "        se N é divisível por i, entâo:\n",
    "            altere a variável eh_primo para falso \n",
    "            pare de verificar os outros números \n",
    "    se a variável eh_primo ainda é verdadeira, adicione N a lista de numeros primos \n",
    "imprima a lista de numero primos "
   ]
  },
  {
   "cell_type": "code",
   "execution_count": 84,
   "id": "c29559f5",
   "metadata": {},
   "outputs": [
    {
     "name": "stdout",
     "output_type": "stream",
     "text": [
      "[2, 3, 5, 7, 11, 13, 17, 19, 23, 29]\n",
      "CPU times: total: 0 ns\n",
      "Wall time: 0 ns\n"
     ]
    }
   ],
   "source": [
    "%%time \n",
    "\n",
    "# encontrando numeros primos entre 2 e 30 usando loop for e while\n",
    "\n",
    "# variavel para armazenar \n",
    "\n",
    "primos = []\n",
    "\n",
    "#para percorrer numero de 2 a 30\n",
    "for num in range(2,31):\n",
    "    \n",
    "    #variavel de controle \n",
    "    eh_primo = True \n",
    "    \n",
    "    #loop while para verificar se é primo\n",
    "    i = 2 \n",
    "    while i <= num // 2:\n",
    "        if num % i == 0:\n",
    "            eh_primo = False \n",
    "            break \n",
    "        i += 1\n",
    "        \n",
    "    # adicionando na lista \n",
    "    if eh_primo:\n",
    "        primos.append(num)\n",
    "        \n",
    "print(primos)\n",
    "    "
   ]
  },
  {
   "cell_type": "markdown",
   "id": "73e1b960",
   "metadata": {},
   "source": [
    "# Gerando intervalo de valor em python"
   ]
  },
  {
   "cell_type": "markdown",
   "id": "a41577aa",
   "metadata": {},
   "source": [
    "## Funçâo range "
   ]
  },
  {
   "cell_type": "code",
   "execution_count": 85,
   "id": "6732ae74",
   "metadata": {},
   "outputs": [
    {
     "name": "stdout",
     "output_type": "stream",
     "text": [
      "1\n",
      "2\n",
      "3\n",
      "4\n",
      "5\n",
      "6\n",
      "7\n",
      "8\n",
      "9\n",
      "10\n"
     ]
    }
   ],
   "source": [
    "# imprimindo numeros de 1 a 10\n",
    "for i in range(1,11):\n",
    "    print(i)"
   ]
  },
  {
   "cell_type": "code",
   "execution_count": 86,
   "id": "ffb189fc",
   "metadata": {},
   "outputs": [
    {
     "name": "stdout",
     "output_type": "stream",
     "text": [
      "10\n",
      "12\n",
      "14\n",
      "16\n",
      "18\n",
      "20\n",
      "22\n",
      "24\n",
      "26\n",
      "28\n",
      "30\n",
      "32\n",
      "34\n",
      "36\n",
      "38\n",
      "40\n",
      "42\n",
      "44\n",
      "46\n",
      "48\n",
      "50\n",
      "52\n",
      "54\n",
      "56\n",
      "58\n",
      "60\n",
      "62\n",
      "64\n",
      "66\n",
      "68\n",
      "70\n",
      "72\n",
      "74\n",
      "76\n",
      "78\n",
      "80\n",
      "82\n",
      "84\n",
      "86\n",
      "88\n",
      "90\n",
      "92\n",
      "94\n",
      "96\n",
      "98\n"
     ]
    }
   ],
   "source": [
    "for i in range(10, 100, 2):\n",
    "    print(i)"
   ]
  },
  {
   "cell_type": "code",
   "execution_count": 90,
   "id": "a3d788da",
   "metadata": {},
   "outputs": [
    {
     "name": "stdout",
     "output_type": "stream",
     "text": [
      "0\n",
      "-2\n",
      "-4\n",
      "-6\n",
      "-8\n",
      "-10\n",
      "-12\n",
      "-14\n",
      "-16\n",
      "-18\n"
     ]
    }
   ],
   "source": [
    "# imprimindo numeros pares negativos entre 0 e -20\n",
    "for i in range(0,-20, -2):\n",
    "    print(i)"
   ]
  },
  {
   "cell_type": "code",
   "execution_count": 91,
   "id": "24556a93",
   "metadata": {},
   "outputs": [
    {
     "name": "stdout",
     "output_type": "stream",
     "text": [
      "abacaxi\n",
      "banana\n",
      "morango\n",
      "uva\n"
     ]
    }
   ],
   "source": [
    "# usando o tamanho de uma lista na funçao range()\n",
    "lista = ['abacaxi','banana', 'morango','uva']\n",
    "lista_tamanho = len(lista)\n",
    "for i in range(0, lista_tamanho):\n",
    "    print(lista[i])"
   ]
  },
  {
   "cell_type": "markdown",
   "id": "28fd6e6b",
   "metadata": {},
   "source": [
    "## Métodos"
   ]
  },
  {
   "cell_type": "code",
   "execution_count": 1,
   "id": "0a343004",
   "metadata": {},
   "outputs": [],
   "source": [
    "# Criando uma lista \n",
    "lista = [100, -2, 12, 65, 0]"
   ]
  },
  {
   "cell_type": "code",
   "execution_count": 2,
   "id": "46ce2f00",
   "metadata": {},
   "outputs": [
    {
     "data": {
      "text/plain": [
       "list"
      ]
     },
     "execution_count": 2,
     "metadata": {},
     "output_type": "execute_result"
    }
   ],
   "source": [
    "type(lista)"
   ]
  },
  {
   "cell_type": "code",
   "execution_count": 3,
   "id": "06137725",
   "metadata": {},
   "outputs": [
    {
     "data": {
      "text/plain": [
       "[100, -2, 12, 65, 0]"
      ]
     },
     "execution_count": 3,
     "metadata": {},
     "output_type": "execute_result"
    }
   ],
   "source": [
    "lista"
   ]
  },
  {
   "cell_type": "code",
   "execution_count": 4,
   "id": "ae7633ab",
   "metadata": {},
   "outputs": [],
   "source": [
    "lista.append(100)"
   ]
  },
  {
   "cell_type": "code",
   "execution_count": 5,
   "id": "479e1202",
   "metadata": {},
   "outputs": [
    {
     "name": "stdout",
     "output_type": "stream",
     "text": [
      "[100, -2, 12, 65, 0, 100]\n"
     ]
    }
   ],
   "source": [
    "print(lista)"
   ]
  },
  {
   "cell_type": "code",
   "execution_count": 6,
   "id": "e59fd74f",
   "metadata": {},
   "outputs": [
    {
     "data": {
      "text/plain": [
       "2"
      ]
     },
     "execution_count": 6,
     "metadata": {},
     "output_type": "execute_result"
    }
   ],
   "source": [
    "lista.count(100)"
   ]
  },
  {
   "cell_type": "code",
   "execution_count": 7,
   "id": "d777f45d",
   "metadata": {},
   "outputs": [
    {
     "name": "stdout",
     "output_type": "stream",
     "text": [
      "Help on built-in function count:\n",
      "\n",
      "count(value, /) method of builtins.list instance\n",
      "    Return number of occurrences of value.\n",
      "\n"
     ]
    }
   ],
   "source": [
    "help(lista.count)"
   ]
  },
  {
   "cell_type": "code",
   "execution_count": 8,
   "id": "839a4441",
   "metadata": {},
   "outputs": [
    {
     "data": {
      "text/plain": [
       "['__add__',\n",
       " '__class__',\n",
       " '__class_getitem__',\n",
       " '__contains__',\n",
       " '__delattr__',\n",
       " '__delitem__',\n",
       " '__dir__',\n",
       " '__doc__',\n",
       " '__eq__',\n",
       " '__format__',\n",
       " '__ge__',\n",
       " '__getattribute__',\n",
       " '__getitem__',\n",
       " '__gt__',\n",
       " '__hash__',\n",
       " '__iadd__',\n",
       " '__imul__',\n",
       " '__init__',\n",
       " '__init_subclass__',\n",
       " '__iter__',\n",
       " '__le__',\n",
       " '__len__',\n",
       " '__lt__',\n",
       " '__mul__',\n",
       " '__ne__',\n",
       " '__new__',\n",
       " '__reduce__',\n",
       " '__reduce_ex__',\n",
       " '__repr__',\n",
       " '__reversed__',\n",
       " '__rmul__',\n",
       " '__setattr__',\n",
       " '__setitem__',\n",
       " '__sizeof__',\n",
       " '__str__',\n",
       " '__subclasshook__',\n",
       " 'append',\n",
       " 'clear',\n",
       " 'copy',\n",
       " 'count',\n",
       " 'extend',\n",
       " 'index',\n",
       " 'insert',\n",
       " 'pop',\n",
       " 'remove',\n",
       " 'reverse',\n",
       " 'sort']"
      ]
     },
     "execution_count": 8,
     "metadata": {},
     "output_type": "execute_result"
    }
   ],
   "source": [
    "# a funçcao dir() mostra todos os métodos e atributos de um objeto \n",
    "dir(lista)"
   ]
  },
  {
   "cell_type": "code",
   "execution_count": 9,
   "id": "d471c71d",
   "metadata": {},
   "outputs": [],
   "source": [
    "frase = 'Isso é uma string'"
   ]
  },
  {
   "cell_type": "code",
   "execution_count": 10,
   "id": "77fa6e55",
   "metadata": {},
   "outputs": [
    {
     "data": {
      "text/plain": [
       "str"
      ]
     },
     "execution_count": 10,
     "metadata": {},
     "output_type": "execute_result"
    }
   ],
   "source": [
    "type(frase)"
   ]
  },
  {
   "cell_type": "code",
   "execution_count": 11,
   "id": "42b64c02",
   "metadata": {},
   "outputs": [
    {
     "data": {
      "text/plain": [
       "'Isso é uma string'"
      ]
     },
     "execution_count": 11,
     "metadata": {},
     "output_type": "execute_result"
    }
   ],
   "source": [
    "#verif metodos e atributos\n",
    "frase "
   ]
  },
  {
   "cell_type": "code",
   "execution_count": 12,
   "id": "ea26ae2a",
   "metadata": {},
   "outputs": [
    {
     "name": "stdout",
     "output_type": "stream",
     "text": [
      "['Isso', 'é', 'uma', 'string']\n"
     ]
    }
   ],
   "source": [
    "# o método de um objeto pode ser chamado dentro de uma funçao, como print()\n",
    "print(frase.split())"
   ]
  },
  {
   "cell_type": "markdown",
   "id": "f70830cb",
   "metadata": {},
   "source": [
    "## Funçoes"
   ]
  },
  {
   "cell_type": "code",
   "execution_count": 13,
   "id": "2e2285e2",
   "metadata": {},
   "outputs": [
    {
     "name": "stdout",
     "output_type": "stream",
     "text": [
      "Hello world\n"
     ]
    }
   ],
   "source": [
    "# fun built in\n",
    "print('Hello world')"
   ]
  },
  {
   "cell_type": "code",
   "execution_count": 14,
   "id": "f36158d7",
   "metadata": {},
   "outputs": [],
   "source": [
    "# definindo uma função \n",
    "def primeriraFunc():\n",
    "    print('Hello world')"
   ]
  },
  {
   "cell_type": "code",
   "execution_count": 16,
   "id": "81161988",
   "metadata": {},
   "outputs": [
    {
     "name": "stdout",
     "output_type": "stream",
     "text": [
      "Hello world\n"
     ]
    }
   ],
   "source": [
    "primeriraFunc()"
   ]
  },
  {
   "cell_type": "code",
   "execution_count": 17,
   "id": "b9edf9b8",
   "metadata": {},
   "outputs": [],
   "source": [
    "#definindo uma func\n",
    "\n",
    "def primeiraFunc():\n",
    "    nome = 'Bob'\n",
    "    print('Hello %s'%(nome))"
   ]
  },
  {
   "cell_type": "code",
   "execution_count": 18,
   "id": "defd5bff",
   "metadata": {},
   "outputs": [
    {
     "name": "stdout",
     "output_type": "stream",
     "text": [
      "Hello Bob\n"
     ]
    }
   ],
   "source": [
    "primeiraFunc()"
   ]
  },
  {
   "cell_type": "code",
   "execution_count": 19,
   "id": "552563db",
   "metadata": {},
   "outputs": [],
   "source": [
    "# definindo uma fun\n",
    "\n",
    "def primeiraFunc():\n",
    "    nome = 'Cbum'\n",
    "    print('Hello %s'%(nome))"
   ]
  },
  {
   "cell_type": "code",
   "execution_count": 20,
   "id": "6b50f837",
   "metadata": {},
   "outputs": [
    {
     "name": "stdout",
     "output_type": "stream",
     "text": [
      "Hello Cbum\n"
     ]
    }
   ],
   "source": [
    "primeiraFunc()"
   ]
  },
  {
   "cell_type": "code",
   "execution_count": 21,
   "id": "258b18fc",
   "metadata": {},
   "outputs": [],
   "source": [
    "def segundaFunc(nome):\n",
    "    print('Hello %s'%(nome))"
   ]
  },
  {
   "cell_type": "code",
   "execution_count": 23,
   "id": "d156d1d0",
   "metadata": {},
   "outputs": [
    {
     "name": "stdout",
     "output_type": "stream",
     "text": [
      "Hello Aluno\n"
     ]
    }
   ],
   "source": [
    "segundaFunc('Aluno')"
   ]
  },
  {
   "cell_type": "code",
   "execution_count": 27,
   "id": "63771438",
   "metadata": {},
   "outputs": [],
   "source": [
    "# funcao para imprimir numeros \n",
    "\n",
    "def imprimeNumeros():\n",
    "    for i in range(0, 5):\n",
    "        print('number ' + str(i))"
   ]
  },
  {
   "cell_type": "code",
   "execution_count": 28,
   "id": "5a66bd52",
   "metadata": {},
   "outputs": [
    {
     "name": "stdout",
     "output_type": "stream",
     "text": [
      "number 0\n",
      "number 1\n",
      "number 2\n",
      "number 3\n",
      "number 4\n"
     ]
    }
   ],
   "source": [
    "imprimeNumeros()"
   ]
  },
  {
   "cell_type": "code",
   "execution_count": null,
   "id": "5b4521bd",
   "metadata": {},
   "outputs": [],
   "source": []
  },
  {
   "cell_type": "code",
   "execution_count": 29,
   "id": "2420e302",
   "metadata": {},
   "outputs": [],
   "source": [
    "# funçao para somar numeros \n",
    "def addNum(firstnum, secondnum):\n",
    "    print('primeiro numero ' + str(firstnum))\n",
    "    print('segundo numero ' + str(secondnum))\n",
    "    print('Soma: ', firstnum + secondnum)"
   ]
  },
  {
   "cell_type": "code",
   "execution_count": 30,
   "id": "b5a9af50",
   "metadata": {},
   "outputs": [
    {
     "name": "stdout",
     "output_type": "stream",
     "text": [
      "primeiro numero 4\n",
      "segundo numero 10\n",
      "Soma:  14\n"
     ]
    }
   ],
   "source": [
    "addNum(4, 10)"
   ]
  },
  {
   "cell_type": "code",
   "execution_count": 31,
   "id": "7fd2ddb6",
   "metadata": {},
   "outputs": [
    {
     "name": "stdout",
     "output_type": "stream",
     "text": [
      "primeiro numero 45\n",
      "segundo numero 19302\n",
      "Soma:  19347\n"
     ]
    }
   ],
   "source": [
    "addNum(45, 19302)"
   ]
  },
  {
   "cell_type": "code",
   "execution_count": 33,
   "id": "004bf753",
   "metadata": {},
   "outputs": [],
   "source": [
    "# funcoes de numero variavel e arg\n",
    "def printVarInfo( arg1, *vartuple ):\n",
    "    \n",
    "    print('O parametro passado foi: ',arg1)\n",
    "    \n",
    "    for item in vartuple:\n",
    "        print('O parametro passado foi: ',item)\n",
    "    return;"
   ]
  },
  {
   "cell_type": "code",
   "execution_count": 34,
   "id": "15552c26",
   "metadata": {},
   "outputs": [
    {
     "name": "stdout",
     "output_type": "stream",
     "text": [
      "O parametro passado foi:  10\n"
     ]
    }
   ],
   "source": [
    "printVarInfo(10)"
   ]
  },
  {
   "cell_type": "code",
   "execution_count": 35,
   "id": "73fc36de",
   "metadata": {},
   "outputs": [
    {
     "name": "stdout",
     "output_type": "stream",
     "text": [
      "O parametro passado foi:  Chocolate\n",
      "O parametro passado foi:  Morango\n"
     ]
    }
   ],
   "source": [
    "printVarInfo('Chocolate', 'Morango')"
   ]
  },
  {
   "cell_type": "markdown",
   "id": "b3cc37ec",
   "metadata": {},
   "source": [
    "## Escopo de variável - local e global"
   ]
  },
  {
   "cell_type": "code",
   "execution_count": 36,
   "id": "57ebb0e5",
   "metadata": {},
   "outputs": [],
   "source": [
    "var_global = 10 #Var global \n",
    "    \n",
    "    #funcao\n",
    "def m_numeros(num1, num2):\n",
    "    var_global = num1 * num2\n",
    "    print(var_global)"
   ]
  },
  {
   "cell_type": "code",
   "execution_count": 37,
   "id": "9396fcd9",
   "metadata": {},
   "outputs": [
    {
     "name": "stdout",
     "output_type": "stream",
     "text": [
      "125\n"
     ]
    }
   ],
   "source": [
    "m_numeros(5, 25)"
   ]
  },
  {
   "cell_type": "code",
   "execution_count": 38,
   "id": "7c2eab19",
   "metadata": {},
   "outputs": [
    {
     "name": "stdout",
     "output_type": "stream",
     "text": [
      "10\n"
     ]
    }
   ],
   "source": [
    "print(var_global)"
   ]
  },
  {
   "cell_type": "markdown",
   "id": "b1308e49",
   "metadata": {},
   "source": [
    "## funcoes built in"
   ]
  },
  {
   "cell_type": "code",
   "execution_count": 40,
   "id": "4aa6d03c",
   "metadata": {},
   "outputs": [
    {
     "data": {
      "text/plain": [
       "56"
      ]
     },
     "execution_count": 40,
     "metadata": {},
     "output_type": "execute_result"
    }
   ],
   "source": [
    "abs(-56)"
   ]
  },
  {
   "cell_type": "code",
   "execution_count": 41,
   "id": "e846f9b5",
   "metadata": {},
   "outputs": [
    {
     "data": {
      "text/plain": [
       "23"
      ]
     },
     "execution_count": 41,
     "metadata": {},
     "output_type": "execute_result"
    }
   ],
   "source": [
    "abs(23)"
   ]
  },
  {
   "cell_type": "code",
   "execution_count": null,
   "id": "44521477",
   "metadata": {},
   "outputs": [],
   "source": [
    "bool(0)"
   ]
  },
  {
   "cell_type": "code",
   "execution_count": 42,
   "id": "d0e20023",
   "metadata": {},
   "outputs": [
    {
     "name": "stdout",
     "output_type": "stream",
     "text": [
      "Digite sua idade: 14\n"
     ]
    },
    {
     "ename": "NameError",
     "evalue": "name 'age' is not defined",
     "output_type": "error",
     "traceback": [
      "\u001b[1;31m---------------------------------------------------------------------------\u001b[0m",
      "\u001b[1;31mNameError\u001b[0m                                 Traceback (most recent call last)",
      "Input \u001b[1;32mIn [42]\u001b[0m, in \u001b[0;36m<cell line: 3>\u001b[1;34m()\u001b[0m\n\u001b[0;32m      1\u001b[0m \u001b[38;5;66;03m# erro ao executar por causa da coversao\u001b[39;00m\n\u001b[0;32m      2\u001b[0m idade \u001b[38;5;241m=\u001b[39m \u001b[38;5;28minput\u001b[39m(\u001b[38;5;124m'\u001b[39m\u001b[38;5;124mDigite sua idade: \u001b[39m\u001b[38;5;124m'\u001b[39m)\n\u001b[1;32m----> 3\u001b[0m \u001b[38;5;28;01mif\u001b[39;00m \u001b[43mage\u001b[49m \u001b[38;5;241m>\u001b[39m \u001b[38;5;241m13\u001b[39m:\n\u001b[0;32m      4\u001b[0m     \u001b[38;5;28mprint\u001b[39m(\u001b[38;5;124m'\u001b[39m\u001b[38;5;124mVoce pode usar sm\u001b[39m\u001b[38;5;124m'\u001b[39m)\n\u001b[0;32m      5\u001b[0m \u001b[38;5;28;01melse\u001b[39;00m:\n",
      "\u001b[1;31mNameError\u001b[0m: name 'age' is not defined"
     ]
    }
   ],
   "source": [
    "# erro ao executar por causa da coversao\n",
    "idade = input('Digite sua idade: ')\n",
    "if age > 13:\n",
    "    print('Voce pode usar sm')\n",
    "else:\n",
    "    print('Seus pais deveriam te auxiliar')"
   ]
  },
  {
   "cell_type": "code",
   "execution_count": 46,
   "id": "9a33029f",
   "metadata": {},
   "outputs": [
    {
     "name": "stdout",
     "output_type": "stream",
     "text": [
      "Digite sua idade: tres\n"
     ]
    },
    {
     "ename": "ValueError",
     "evalue": "invalid literal for int() with base 10: 'tres'",
     "output_type": "error",
     "traceback": [
      "\u001b[1;31m---------------------------------------------------------------------------\u001b[0m",
      "\u001b[1;31mValueError\u001b[0m                                Traceback (most recent call last)",
      "Input \u001b[1;32mIn [46]\u001b[0m, in \u001b[0;36m<cell line: 1>\u001b[1;34m()\u001b[0m\n\u001b[1;32m----> 1\u001b[0m idade \u001b[38;5;241m=\u001b[39m \u001b[38;5;28;43mint\u001b[39;49m\u001b[43m(\u001b[49m\u001b[38;5;28;43minput\u001b[39;49m\u001b[43m(\u001b[49m\u001b[38;5;124;43m'\u001b[39;49m\u001b[38;5;124;43mDigite sua idade: \u001b[39;49m\u001b[38;5;124;43m'\u001b[39;49m\u001b[43m)\u001b[49m\u001b[43m)\u001b[49m\n\u001b[0;32m      2\u001b[0m \u001b[38;5;28;01mif\u001b[39;00m idade \u001b[38;5;241m>\u001b[39m \u001b[38;5;241m13\u001b[39m:\n\u001b[0;32m      3\u001b[0m     \u001b[38;5;28mprint\u001b[39m(\u001b[38;5;124m'\u001b[39m\u001b[38;5;124mVoce pode usar redes sociais\u001b[39m\u001b[38;5;124m'\u001b[39m)\n",
      "\u001b[1;31mValueError\u001b[0m: invalid literal for int() with base 10: 'tres'"
     ]
    }
   ],
   "source": [
    "idade = int(input('Digite sua idade: '))\n",
    "if idade > 13:\n",
    "    print('Voce pode usar redes sociais')\n",
    "else: \n",
    "    print('Seus pais sao irresponsaveis')"
   ]
  },
  {
   "cell_type": "code",
   "execution_count": 47,
   "id": "c0030bee",
   "metadata": {},
   "outputs": [
    {
     "data": {
      "text/plain": [
       "26"
      ]
     },
     "execution_count": 47,
     "metadata": {},
     "output_type": "execute_result"
    }
   ],
   "source": [
    "int('26')"
   ]
  },
  {
   "cell_type": "code",
   "execution_count": 49,
   "id": "5ed4ff79",
   "metadata": {},
   "outputs": [
    {
     "data": {
      "text/plain": [
       "123.345"
      ]
     },
     "execution_count": 49,
     "metadata": {},
     "output_type": "execute_result"
    }
   ],
   "source": [
    "float('123.345')"
   ]
  },
  {
   "cell_type": "code",
   "execution_count": 50,
   "id": "875e1b77",
   "metadata": {},
   "outputs": [
    {
     "data": {
      "text/plain": [
       "'14'"
      ]
     },
     "execution_count": 50,
     "metadata": {},
     "output_type": "execute_result"
    }
   ],
   "source": [
    "str(14)"
   ]
  },
  {
   "cell_type": "code",
   "execution_count": 51,
   "id": "b62431f0",
   "metadata": {},
   "outputs": [
    {
     "data": {
      "text/plain": [
       "4"
      ]
     },
     "execution_count": 51,
     "metadata": {},
     "output_type": "execute_result"
    }
   ],
   "source": [
    "len([23, 34,45,46])"
   ]
  },
  {
   "cell_type": "code",
   "execution_count": 53,
   "id": "864143b9",
   "metadata": {},
   "outputs": [],
   "source": [
    "array = [1, 2, 3]"
   ]
  },
  {
   "cell_type": "code",
   "execution_count": 54,
   "id": "b9a0b0e9",
   "metadata": {},
   "outputs": [
    {
     "data": {
      "text/plain": [
       "3"
      ]
     },
     "execution_count": 54,
     "metadata": {},
     "output_type": "execute_result"
    }
   ],
   "source": [
    "max(array)"
   ]
  },
  {
   "cell_type": "markdown",
   "id": "aebc257e",
   "metadata": {},
   "source": [
    "min(array)"
   ]
  },
  {
   "cell_type": "code",
   "execution_count": 55,
   "id": "64ac449b",
   "metadata": {},
   "outputs": [
    {
     "data": {
      "text/plain": [
       "1"
      ]
     },
     "execution_count": 55,
     "metadata": {},
     "output_type": "execute_result"
    }
   ],
   "source": [
    "min(array)"
   ]
  },
  {
   "cell_type": "code",
   "execution_count": 56,
   "id": "901c589a",
   "metadata": {},
   "outputs": [
    {
     "data": {
      "text/plain": [
       "6"
      ]
     },
     "execution_count": 56,
     "metadata": {},
     "output_type": "execute_result"
    }
   ],
   "source": [
    "sum(array)"
   ]
  },
  {
   "cell_type": "code",
   "execution_count": 57,
   "id": "d4345e07",
   "metadata": {},
   "outputs": [],
   "source": [
    "list1 = [16, 23, 44, 75]"
   ]
  },
  {
   "cell_type": "code",
   "execution_count": 58,
   "id": "1d14b334",
   "metadata": {},
   "outputs": [
    {
     "data": {
      "text/plain": [
       "158"
      ]
     },
     "execution_count": 58,
     "metadata": {},
     "output_type": "execute_result"
    }
   ],
   "source": [
    "sum(list1)"
   ]
  },
  {
   "cell_type": "markdown",
   "id": "36deb135",
   "metadata": {},
   "source": [
    "## Criando funçoes usando outras funçoes "
   ]
  },
  {
   "cell_type": "code",
   "execution_count": 6,
   "id": "c25141fc",
   "metadata": {},
   "outputs": [],
   "source": [
    "import math \n",
    "\n",
    "#verificando se o numero é primo \n",
    "def numPrimo(num):\n",
    "    if (num % 2) == 0 and num > 2:\n",
    "        return 'Este numero nâo é primo'\n",
    "    for i in range(3, int(math.sqrt(num)) + 1, 2):\n",
    "        if(num % i) == 0:\n",
    "            return 'Este numero nao é primo'\n",
    "    return 'Ese numer é primo'"
   ]
  },
  {
   "cell_type": "code",
   "execution_count": 7,
   "id": "1861bfcb",
   "metadata": {},
   "outputs": [
    {
     "data": {
      "text/plain": [
       "'Ese numer é primo'"
      ]
     },
     "execution_count": 7,
     "metadata": {},
     "output_type": "execute_result"
    }
   ],
   "source": [
    "numPrimo(541)"
   ]
  },
  {
   "cell_type": "code",
   "execution_count": 8,
   "id": "e2f30783",
   "metadata": {},
   "outputs": [
    {
     "data": {
      "text/plain": [
       "'Ese numer é primo'"
      ]
     },
     "execution_count": 8,
     "metadata": {},
     "output_type": "execute_result"
    }
   ],
   "source": [
    "numPrimo(2)"
   ]
  },
  {
   "cell_type": "code",
   "execution_count": 9,
   "id": "85de4a4b",
   "metadata": {},
   "outputs": [],
   "source": [
    "caixa_baixa = 'THIS should be on lower'"
   ]
  },
  {
   "cell_type": "code",
   "execution_count": 10,
   "id": "067ea678",
   "metadata": {},
   "outputs": [],
   "source": [
    "def lowercase(text):\n",
    "    return text.lower()"
   ]
  },
  {
   "cell_type": "code",
   "execution_count": 11,
   "id": "12a50d44",
   "metadata": {},
   "outputs": [],
   "source": [
    "lowercased_string = lowercase(caixa_baixa)"
   ]
  },
  {
   "cell_type": "code",
   "execution_count": 12,
   "id": "68b99368",
   "metadata": {},
   "outputs": [
    {
     "data": {
      "text/plain": [
       "'this should be on lower'"
      ]
     },
     "execution_count": 12,
     "metadata": {},
     "output_type": "execute_result"
    }
   ],
   "source": [
    "lowercased_string"
   ]
  },
  {
   "cell_type": "code",
   "execution_count": 13,
   "id": "e59cb4e3",
   "metadata": {},
   "outputs": [],
   "source": [
    "caixa_alta = 'THIS should be on lower'"
   ]
  },
  {
   "cell_type": "code",
   "execution_count": 14,
   "id": "30784ade",
   "metadata": {},
   "outputs": [],
   "source": [
    "def uppercase(text):\n",
    "    return text.upper()"
   ]
  },
  {
   "cell_type": "code",
   "execution_count": 15,
   "id": "5f73ed73",
   "metadata": {},
   "outputs": [],
   "source": [
    "uppercased_string = uppercase(caixa_alta)"
   ]
  },
  {
   "cell_type": "code",
   "execution_count": 16,
   "id": "c669ad17",
   "metadata": {},
   "outputs": [
    {
     "data": {
      "text/plain": [
       "'THIS SHOULD BE ON LOWER'"
      ]
     },
     "execution_count": 16,
     "metadata": {},
     "output_type": "execute_result"
    }
   ],
   "source": [
    "uppercased_string"
   ]
  },
  {
   "cell_type": "markdown",
   "id": "542ae907",
   "metadata": {},
   "source": [
    "## Fazendo split de dados"
   ]
  },
  {
   "cell_type": "code",
   "execution_count": 17,
   "id": "07a1bf48",
   "metadata": {},
   "outputs": [],
   "source": [
    "# fazendo split dos dados \n",
    "\n",
    "def split_string_palavras(text):\n",
    "    return text.split(' ')"
   ]
  },
  {
   "cell_type": "code",
   "execution_count": 18,
   "id": "3f5db99d",
   "metadata": {},
   "outputs": [],
   "source": [
    "texto = ' esta funcao e bastante util para separar grandes volumes de dados'"
   ]
  },
  {
   "cell_type": "code",
   "execution_count": 19,
   "id": "2127bf5c",
   "metadata": {},
   "outputs": [
    {
     "name": "stdout",
     "output_type": "stream",
     "text": [
      "['', 'esta', 'funcao', 'e', 'bastante', 'util', 'para', 'separar', 'grandes', 'volumes', 'de', 'dados']\n"
     ]
    }
   ],
   "source": [
    "# isso divide a string em uma lista de palavras \n",
    "print(split_string_palavras(texto))"
   ]
  },
  {
   "cell_type": "code",
   "execution_count": 20,
   "id": "e3782559",
   "metadata": {},
   "outputs": [],
   "source": [
    "token = split_string_palavras(texto)"
   ]
  },
  {
   "cell_type": "code",
   "execution_count": 21,
   "id": "40ec6834",
   "metadata": {},
   "outputs": [
    {
     "data": {
      "text/plain": [
       "['',\n",
       " 'esta',\n",
       " 'funcao',\n",
       " 'e',\n",
       " 'bastante',\n",
       " 'util',\n",
       " 'para',\n",
       " 'separar',\n",
       " 'grandes',\n",
       " 'volumes',\n",
       " 'de',\n",
       " 'dados']"
      ]
     },
     "execution_count": 21,
     "metadata": {},
     "output_type": "execute_result"
    }
   ],
   "source": [
    "token"
   ]
  },
  {
   "cell_type": "code",
   "execution_count": 24,
   "id": "1c586c29",
   "metadata": {},
   "outputs": [],
   "source": [
    "# divisao em letras \n",
    "def split_string_letras(text):\n",
    "    texto = text.upper()\n",
    "    for letra in texto:\n",
    "        print(letra)"
   ]
  },
  {
   "cell_type": "code",
   "execution_count": 26,
   "id": "306b4df4",
   "metadata": {},
   "outputs": [
    {
     "name": "stdout",
     "output_type": "stream",
     "text": [
      " \n",
      "E\n",
      "S\n",
      "T\n",
      "A\n",
      " \n",
      "F\n",
      "U\n",
      "N\n",
      "C\n",
      "A\n",
      "O\n",
      " \n",
      "E\n",
      " \n",
      "B\n",
      "A\n",
      "S\n",
      "T\n",
      "A\n",
      "N\n",
      "T\n",
      "E\n",
      " \n",
      "U\n",
      "T\n",
      "I\n",
      "L\n",
      " \n",
      "P\n",
      "A\n",
      "R\n",
      "A\n",
      " \n",
      "S\n",
      "E\n",
      "P\n",
      "A\n",
      "R\n",
      "A\n",
      "R\n",
      " \n",
      "G\n",
      "R\n",
      "A\n",
      "N\n",
      "D\n",
      "E\n",
      "S\n",
      " \n",
      "V\n",
      "O\n",
      "L\n",
      "U\n",
      "M\n",
      "E\n",
      "S\n",
      " \n",
      "D\n",
      "E\n",
      " \n",
      "D\n",
      "A\n",
      "D\n",
      "O\n",
      "S\n"
     ]
    }
   ],
   "source": [
    "split_string_letras(texto)"
   ]
  },
  {
   "cell_type": "markdown",
   "id": "6b998f2c",
   "metadata": {},
   "source": [
    "## Expressâo Lambda "
   ]
  },
  {
   "cell_type": "code",
   "execution_count": 39,
   "id": "df996e88",
   "metadata": {},
   "outputs": [],
   "source": [
    "# definindo uma funçao - 3 linhas\n",
    "def potencia(num):\n",
    "    resultado = num ** 2\n",
    "    return resultado "
   ]
  },
  {
   "cell_type": "code",
   "execution_count": 40,
   "id": "c7dd45c8",
   "metadata": {},
   "outputs": [
    {
     "data": {
      "text/plain": [
       "25"
      ]
     },
     "execution_count": 40,
     "metadata": {},
     "output_type": "execute_result"
    }
   ],
   "source": [
    "potencia(5)"
   ]
  },
  {
   "cell_type": "code",
   "execution_count": 41,
   "id": "c204a738",
   "metadata": {},
   "outputs": [],
   "source": [
    "# definindo uma funçao - 2 linhas\n",
    "def potencia(num):\n",
    "    return num ** 2"
   ]
  },
  {
   "cell_type": "code",
   "execution_count": 42,
   "id": "aa348a0b",
   "metadata": {},
   "outputs": [
    {
     "data": {
      "text/plain": [
       "25"
      ]
     },
     "execution_count": 42,
     "metadata": {},
     "output_type": "execute_result"
    }
   ],
   "source": [
    "potencia(5)"
   ]
  },
  {
   "cell_type": "code",
   "execution_count": 43,
   "id": "fc274eb6",
   "metadata": {},
   "outputs": [],
   "source": [
    "# definindo uma funçao - 1 linha \n",
    "def potencia(num): return num ** 2"
   ]
  },
  {
   "cell_type": "code",
   "execution_count": 44,
   "id": "0f57b312",
   "metadata": {},
   "outputs": [
    {
     "data": {
      "text/plain": [
       "25"
      ]
     },
     "execution_count": 44,
     "metadata": {},
     "output_type": "execute_result"
    }
   ],
   "source": [
    "potencia(5)"
   ]
  },
  {
   "cell_type": "code",
   "execution_count": 45,
   "id": "6198e9f7",
   "metadata": {},
   "outputs": [],
   "source": [
    "# definindo uma expressao lambda (fun anonima)\n",
    "potencia = lambda num: num **2"
   ]
  },
  {
   "cell_type": "code",
   "execution_count": 46,
   "id": "8dc42475",
   "metadata": {},
   "outputs": [
    {
     "data": {
      "text/plain": [
       "25"
      ]
     },
     "execution_count": 46,
     "metadata": {},
     "output_type": "execute_result"
    }
   ],
   "source": [
    "potencia(5)"
   ]
  },
  {
   "cell_type": "code",
   "execution_count": 1,
   "id": "7cff9052",
   "metadata": {},
   "outputs": [],
   "source": [
    "# lembre: operadores de comparaçâo retornam boolean: true or false \n",
    "par = lambda x: x%2==0"
   ]
  },
  {
   "cell_type": "code",
   "execution_count": 48,
   "id": "855dbb4e",
   "metadata": {},
   "outputs": [
    {
     "data": {
      "text/plain": [
       "False"
      ]
     },
     "execution_count": 48,
     "metadata": {},
     "output_type": "execute_result"
    }
   ],
   "source": [
    "par(3)"
   ]
  },
  {
   "cell_type": "code",
   "execution_count": 49,
   "id": "8d2479c4",
   "metadata": {},
   "outputs": [
    {
     "data": {
      "text/plain": [
       "True"
      ]
     },
     "execution_count": 49,
     "metadata": {},
     "output_type": "execute_result"
    }
   ],
   "source": [
    "par(4)"
   ]
  },
  {
   "cell_type": "code",
   "execution_count": 53,
   "id": "56a6c06a",
   "metadata": {},
   "outputs": [],
   "source": [
    "first = lambda s: s[0]"
   ]
  },
  {
   "cell_type": "code",
   "execution_count": 54,
   "id": "a763dfe1",
   "metadata": {},
   "outputs": [
    {
     "data": {
      "text/plain": [
       "'P'"
      ]
     },
     "execution_count": 54,
     "metadata": {},
     "output_type": "execute_result"
    }
   ],
   "source": [
    "first('Python')"
   ]
  },
  {
   "cell_type": "code",
   "execution_count": 55,
   "id": "946f79d8",
   "metadata": {},
   "outputs": [],
   "source": [
    "reverso = lambda s: s[::-1]"
   ]
  },
  {
   "cell_type": "code",
   "execution_count": 56,
   "id": "c5a674a2",
   "metadata": {},
   "outputs": [
    {
     "data": {
      "text/plain": [
       "'nohtyP'"
      ]
     },
     "execution_count": 56,
     "metadata": {},
     "output_type": "execute_result"
    }
   ],
   "source": [
    "reverso('Python')"
   ]
  },
  {
   "cell_type": "code",
   "execution_count": 57,
   "id": "b1d9f280",
   "metadata": {},
   "outputs": [],
   "source": [
    "reverso = lambda s: s[::-1] "
   ]
  },
  {
   "cell_type": "code",
   "execution_count": 58,
   "id": "1ce4556a",
   "metadata": {},
   "outputs": [
    {
     "data": {
      "text/plain": [
       "'haraS'"
      ]
     },
     "execution_count": 58,
     "metadata": {},
     "output_type": "execute_result"
    }
   ],
   "source": [
    "reverso('Sarah')"
   ]
  },
  {
   "cell_type": "code",
   "execution_count": 60,
   "id": "1543e349",
   "metadata": {},
   "outputs": [
    {
     "data": {
      "text/plain": [
       "'odepipelelarap'"
      ]
     },
     "execution_count": 60,
     "metadata": {},
     "output_type": "execute_result"
    }
   ],
   "source": [
    "reverso('paralelepipedo')"
   ]
  },
  {
   "cell_type": "code",
   "execution_count": 61,
   "id": "0649ba23",
   "metadata": {},
   "outputs": [
    {
     "data": {
      "text/plain": [
       "'atsigologniralonirroto'"
      ]
     },
     "execution_count": 61,
     "metadata": {},
     "output_type": "execute_result"
    }
   ],
   "source": [
    "reverso('otorrinolaringologista')"
   ]
  },
  {
   "cell_type": "code",
   "execution_count": 59,
   "id": "b0af76d8",
   "metadata": {},
   "outputs": [
    {
     "data": {
      "text/plain": [
       "'rotciv'"
      ]
     },
     "execution_count": 59,
     "metadata": {},
     "output_type": "execute_result"
    }
   ],
   "source": [
    "reverso('victor')"
   ]
  },
  {
   "cell_type": "code",
   "execution_count": 71,
   "id": "4591bd9b",
   "metadata": {},
   "outputs": [],
   "source": [
    "addNum = lambda x,y : x+y"
   ]
  },
  {
   "cell_type": "code",
   "execution_count": 72,
   "id": "58c24765",
   "metadata": {},
   "outputs": [
    {
     "data": {
      "text/plain": [
       "5"
      ]
     },
     "execution_count": 72,
     "metadata": {},
     "output_type": "execute_result"
    }
   ],
   "source": [
    "addNum(2,3)"
   ]
  },
  {
   "cell_type": "markdown",
   "id": "46b879ec",
   "metadata": {},
   "source": [
    "## List comprehension"
   ]
  },
  {
   "cell_type": "code",
   "execution_count": 1,
   "id": "171b3dbb",
   "metadata": {},
   "outputs": [
    {
     "data": {
      "text/plain": [
       "[0, 1, 2, 3, 4, 5, 6, 7, 8, 9]"
      ]
     },
     "execution_count": 1,
     "metadata": {},
     "output_type": "execute_result"
    }
   ],
   "source": [
    "# list comprehension que imprime os números até 10\n",
    "[x for x in range(10)]"
   ]
  },
  {
   "cell_type": "code",
   "execution_count": 3,
   "id": "c12afd4e",
   "metadata": {},
   "outputs": [
    {
     "data": {
      "text/plain": [
       "[0, 1, 2, 3, 4, 5, 6, 7, 8, 9, 10, 11, 12, 13, 14, 15, 16, 17, 18, 19]"
      ]
     },
     "execution_count": 3,
     "metadata": {},
     "output_type": "execute_result"
    }
   ],
   "source": [
    "[x for x in range(20)]"
   ]
  },
  {
   "cell_type": "code",
   "execution_count": 4,
   "id": "957edccb",
   "metadata": {},
   "outputs": [],
   "source": [
    "lista_numeros = [x for x in range(10)]"
   ]
  },
  {
   "cell_type": "code",
   "execution_count": 5,
   "id": "87643406",
   "metadata": {},
   "outputs": [
    {
     "name": "stdout",
     "output_type": "stream",
     "text": [
      "[0, 1, 2, 3, 4, 5, 6, 7, 8, 9]\n"
     ]
    }
   ],
   "source": [
    "print(lista_numeros)"
   ]
  },
  {
   "cell_type": "code",
   "execution_count": 8,
   "id": "c5f7632d",
   "metadata": {},
   "outputs": [
    {
     "name": "stdout",
     "output_type": "stream",
     "text": [
      "[0, 1, 2, 3, 4]\n"
     ]
    }
   ],
   "source": [
    "lista_numeros = [x for x in range(10) if x < 5]\n",
    "print(lista_numeros)"
   ]
  },
  {
   "cell_type": "code",
   "execution_count": 9,
   "id": "03196f67",
   "metadata": {},
   "outputs": [
    {
     "data": {
      "text/plain": [
       "5"
      ]
     },
     "execution_count": 9,
     "metadata": {},
     "output_type": "execute_result"
    }
   ],
   "source": [
    "len(lista_numeros)"
   ]
  },
  {
   "cell_type": "code",
   "execution_count": 10,
   "id": "c520b5af",
   "metadata": {},
   "outputs": [],
   "source": [
    "# lista de frutas\n",
    "lista_frutas = ['banana', 'pera', 'maça', 'melancia', 'cereja']\n",
    "\n",
    "# nova lista \n",
    "nova_lista = []"
   ]
  },
  {
   "cell_type": "code",
   "execution_count": 11,
   "id": "871e964c",
   "metadata": {},
   "outputs": [
    {
     "name": "stdout",
     "output_type": "stream",
     "text": [
      "['maça', 'melancia']\n"
     ]
    }
   ],
   "source": [
    "for x in lista_frutas:\n",
    "    if 'm' in x:\n",
    "        nova_lista.append(x)\n",
    "\n",
    "print(nova_lista)"
   ]
  },
  {
   "cell_type": "code",
   "execution_count": 14,
   "id": "8c8c6c3c",
   "metadata": {},
   "outputs": [
    {
     "name": "stdout",
     "output_type": "stream",
     "text": [
      "['maça', 'melancia']\n"
     ]
    }
   ],
   "source": [
    "for x in lista_frutas:\n",
    "    if 'y' in x:\n",
    "        nova_lista.append(x)\n",
    "        \n",
    "print(nova_lista)"
   ]
  },
  {
   "cell_type": "code",
   "execution_count": 15,
   "id": "2f69afc1",
   "metadata": {},
   "outputs": [
    {
     "name": "stdout",
     "output_type": "stream",
     "text": [
      "['maça', 'melancia']\n"
     ]
    }
   ],
   "source": [
    "nova_lista = [x for x in lista_frutas if 'm' in x]\n",
    "print(nova_lista)"
   ]
  },
  {
   "cell_type": "code",
   "execution_count": 16,
   "id": "861ba2d7",
   "metadata": {},
   "outputs": [
    {
     "name": "stdout",
     "output_type": "stream",
     "text": [
      "{'Bob': 68, 'Michel': 84, 'Zico': 57, 'Ana': 93}\n"
     ]
    }
   ],
   "source": [
    "# dict comprehension \n",
    "\n",
    "dict_alunos = { 'Bob': 68, 'Michel': 84, 'Zico': 57, 'Ana': 93}\n",
    "\n",
    "#criamos um novo dicionário imprimindo os pares chave:valor\n",
    "dict_alunos_status = {k:v for (k, v) in dict_alunos.items()}\n",
    "print(dict_alunos_status)"
   ]
  },
  {
   "cell_type": "code",
   "execution_count": 18,
   "id": "9611db6a",
   "metadata": {},
   "outputs": [
    {
     "name": "stdout",
     "output_type": "stream",
     "text": [
      "{'Bob': 'Reprovado', 'Michel': 'Aprovado', 'Zico': 'Reprovado', 'Ana': 'Aprovado'}\n"
     ]
    }
   ],
   "source": [
    "dict_alunos = { 'Bob': 68, 'Michel': 84, 'Zico': 57, 'Ana': 93}\n",
    "\n",
    "dict_alunos_status = {k: ('Aprovado' if v > 70 else 'Reprovado') for (k, v) in dict_alunos.items()}\n",
    "print(dict_alunos_status)"
   ]
  },
  {
   "cell_type": "code",
   "execution_count": null,
   "id": "c8bebd45",
   "metadata": {},
   "outputs": [],
   "source": []
  }
 ],
 "metadata": {
  "kernelspec": {
   "display_name": "Python 3 (ipykernel)",
   "language": "python",
   "name": "python3"
  },
  "language_info": {
   "codemirror_mode": {
    "name": "ipython",
    "version": 3
   },
   "file_extension": ".py",
   "mimetype": "text/x-python",
   "name": "python",
   "nbconvert_exporter": "python",
   "pygments_lexer": "ipython3",
   "version": "3.9.12"
  }
 },
 "nbformat": 4,
 "nbformat_minor": 5
}
