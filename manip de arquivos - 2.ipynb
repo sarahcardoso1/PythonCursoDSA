{
 "cells": [
  {
   "cell_type": "markdown",
   "id": "e97cb7fb",
   "metadata": {},
   "source": [
    "# manip de arquivos - 2"
   ]
  },
  {
   "cell_type": "markdown",
   "id": "42086ddf",
   "metadata": {},
   "source": [
    "## manipulando arquivos txt"
   ]
  },
  {
   "cell_type": "markdown",
   "id": "94163dfd",
   "metadata": {},
   "source": [
    "TXT é a extensão de arquivo para arquivos de texto puro. Um arquivo TXT é um arquivo de texto simples sem formatação, como negrito,itálico ou fontes diferentes. Ele pode ser aberto e editado com muitos aplicativos diferentes, incluindo editores de texto e IDEs. Arquivos TXT sâo amplamente utilizados para armazenar dadps de texto siples, listas, notas, documentos de texto. Eles sâo universais e podem ser lids em praticamaente qualquer dispositivo ou sistema operacional "
   ]
  },
  {
   "cell_type": "code",
   "execution_count": 3,
   "id": "2f281af3",
   "metadata": {},
   "outputs": [],
   "source": [
    "texto = 'Cientista de Dados pode ser uma excelente alternativa de carreira.\\n'\n",
    "texto = texto + 'Esses profissionais precisam saber como programar em Python.\\n'\n",
    "texto += 'E, claro, devem ser proficientes em Data Science'"
   ]
  },
  {
   "cell_type": "code",
   "execution_count": 4,
   "id": "b0c174dc",
   "metadata": {},
   "outputs": [
    {
     "name": "stdout",
     "output_type": "stream",
     "text": [
      "Cientista de Dados pode ser uma excelente alternativa de carreira.\n",
      "Esses profissionais precisam saber como programar em Python.\n",
      "E, claro, devem ser proficientes em Data Science\n"
     ]
    }
   ],
   "source": [
    "print(texto)"
   ]
  },
  {
   "cell_type": "code",
   "execution_count": 5,
   "id": "bea50203",
   "metadata": {},
   "outputs": [],
   "source": [
    "# Importandpo o módulo os\n",
    "import os"
   ]
  },
  {
   "cell_type": "code",
   "execution_count": 19,
   "id": "bb65f8ce",
   "metadata": {},
   "outputs": [],
   "source": [
    "# criando 1 arquivo\n",
    "arquivo = open(os.path.join('arquivos/cientista.txt'), 'w')"
   ]
  },
  {
   "cell_type": "code",
   "execution_count": 20,
   "id": "06f13d5c",
   "metadata": {},
   "outputs": [],
   "source": [
    "# gravando os dados no arquivo\n",
    "for palavra in texto.split():\n",
    "    arquivo.write(palavra + ' ')"
   ]
  },
  {
   "cell_type": "code",
   "execution_count": 21,
   "id": "a213dd1d",
   "metadata": {},
   "outputs": [],
   "source": [
    "arquivo.close()"
   ]
  },
  {
   "cell_type": "code",
   "execution_count": 22,
   "id": "ebf15f7d",
   "metadata": {},
   "outputs": [
    {
     "name": "stdout",
     "output_type": "stream",
     "text": [
      "Cientista de Dados pode ser uma excelente alternativa de carreira. Esses profissionais precisam saber como programar em Python. E, claro, devem ser proficientes em Data Science \n"
     ]
    }
   ],
   "source": [
    "arquivo = open('arquivos/cientista.txt', 'r')\n",
    "conteudo = arquivo.read()\n",
    "arquivo.close()\n",
    "print(conteudo)"
   ]
  },
  {
   "cell_type": "markdown",
   "id": "b20bee90",
   "metadata": {},
   "source": [
    "### Usando a expressão with"
   ]
  },
  {
   "cell_type": "markdown",
   "id": "6bbcf40b",
   "metadata": {},
   "source": [
    "o método close() é executado automaticamente"
   ]
  },
  {
   "cell_type": "code",
   "execution_count": 25,
   "id": "b50d3ee7",
   "metadata": {},
   "outputs": [],
   "source": [
    "with open('arquivos/cientista.txt', 'r') as arquivo:\n",
    "    conteudo = arquivo.read()"
   ]
  },
  {
   "cell_type": "code",
   "execution_count": 26,
   "id": "40ba6af8",
   "metadata": {},
   "outputs": [
    {
     "name": "stdout",
     "output_type": "stream",
     "text": [
      "177\n"
     ]
    }
   ],
   "source": [
    "print(len(conteudo))"
   ]
  },
  {
   "cell_type": "code",
   "execution_count": 28,
   "id": "81f172fe",
   "metadata": {},
   "outputs": [
    {
     "name": "stdout",
     "output_type": "stream",
     "text": [
      "Cientista de Dados pode ser uma excelente alternativa de carreira. Esses profissionais precisam saber como programar em Python. E, claro, devem ser proficientes em Data Science \n"
     ]
    }
   ],
   "source": [
    "print(conteudo)"
   ]
  },
  {
   "cell_type": "code",
   "execution_count": 30,
   "id": "90b6b96c",
   "metadata": {},
   "outputs": [],
   "source": [
    "with open('arquivos/cientista.txt', 'w') as arquivo:\n",
    "    arquivo.write(texto[:19])\n",
    "    arquivo.write('\\n')\n",
    "    arquivo.write(texto[28:66])"
   ]
  },
  {
   "cell_type": "code",
   "execution_count": 32,
   "id": "08d9290d",
   "metadata": {},
   "outputs": [
    {
     "name": "stdout",
     "output_type": "stream",
     "text": [
      "Cientista de Dados \n",
      "uma excelente alternativa de carreira.\n"
     ]
    }
   ],
   "source": [
    "arquivo = open('arquivos/cientista.txt', 'r')\n",
    "conteudo = arquivo.read()\n",
    "arquivo.close()\n",
    "print(conteudo)"
   ]
  },
  {
   "cell_type": "markdown",
   "id": "e7d2a286",
   "metadata": {},
   "source": [
    "## Manipulando arquivos CSV"
   ]
  },
  {
   "cell_type": "markdown",
   "id": "3fe23cf6",
   "metadata": {},
   "source": [
    "csv (comma separated values)forato que armazena dados tabulares em texto plano. cada linha do CSV apresenta uma linha da tabela e as colunas sao separadas por vírgula. utilizado para exportar dados em diferentes aplicaçoes, como planilhas e bancos de dados. CSV é uma opçâo simples e universal para compartilhar dados, pois pode ser aberto e editado com muitos aplicatios diferentes, incluindo o programa de planilha e editores de texto."
   ]
  },
  {
   "cell_type": "code",
   "execution_count": 1,
   "id": "50d21c12",
   "metadata": {},
   "outputs": [],
   "source": [
    "import csv"
   ]
  },
  {
   "cell_type": "code",
   "execution_count": 2,
   "id": "1c6f141b",
   "metadata": {},
   "outputs": [],
   "source": [
    "with open('arquivos/numeros.csv', 'w') as arquivo:\n",
    "    \n",
    "    #cria o objeto de gravação\n",
    "    writer = csv.writer(arquivo)\n",
    "    \n",
    "    #grava no arq linha a linha\n",
    "    writer.writerow(('nota1', 'nota2', 'nota3'))\n",
    "    writer.writerow((63,87,92))\n",
    "    writer.writerow((61,79,76))\n",
    "    writer.writerow((72,64,91))"
   ]
  },
  {
   "cell_type": "code",
   "execution_count": 7,
   "id": "4764137e",
   "metadata": {},
   "outputs": [
    {
     "name": "stdout",
     "output_type": "stream",
     "text": [
      "['nota1', 'nota2', 'nota3']\n",
      "['63', '87', '92']\n",
      "['61', '79', '76']\n",
      "['72', '64', '91']\n"
     ]
    }
   ],
   "source": [
    "# leitura de arquivos csv \n",
    "with open('arquivos/numeros.csv', 'r', encoding= 'utf8', newline ='\\r\\n') as arquivo:\n",
    "    \n",
    "    #cria objeto de leitura \n",
    "    leitor = csv.reader(arquivo)\n",
    "    \n",
    "    # loop\n",
    "    for x in leitor:\n",
    "        print(x)"
   ]
  },
  {
   "cell_type": "code",
   "execution_count": 8,
   "id": "72bdcd0c",
   "metadata": {},
   "outputs": [],
   "source": [
    "# gerando uma lista com dados do arquivo csv \n",
    "with open('arquivos/numeros.csv', 'r') as arquivo:\n",
    "    leitor = csv.reader(arquivo)\n",
    "    dados = list(leitor)"
   ]
  },
  {
   "cell_type": "code",
   "execution_count": 9,
   "id": "914ffe48",
   "metadata": {},
   "outputs": [
    {
     "name": "stdout",
     "output_type": "stream",
     "text": [
      "[['nota1', 'nota2', 'nota3'], [], ['63', '87', '92'], [], ['61', '79', '76'], [], ['72', '64', '91'], []]\n"
     ]
    }
   ],
   "source": [
    "print(dados)"
   ]
  },
  {
   "cell_type": "code",
   "execution_count": 14,
   "id": "81cc7371",
   "metadata": {},
   "outputs": [
    {
     "name": "stdout",
     "output_type": "stream",
     "text": [
      "['nota1', 'nota2', 'nota3']\n",
      "[]\n"
     ]
    }
   ],
   "source": [
    "# imprimindo a partir da segunda linha\n",
    "\n",
    "for linha in dados[:2]:\n",
    "    print(linha)"
   ]
  },
  {
   "cell_type": "markdown",
   "id": "78ad8a98",
   "metadata": {},
   "source": [
    "## Manipulando arquivos Jason (java script object notation)\n",
    "\n",
    "JSON utilizado para transmitir informaçoes em aplicaçoes da web\n",
    " ///// baseado em Java Script e utiliza-se de pares de chave para representar dados.\n",
    "/////facilmente lido e escrito por máquinas e utilizado como formato de intercâmbio de dados em app web."
   ]
  },
  {
   "cell_type": "code",
   "execution_count": 16,
   "id": "2fed9a11",
   "metadata": {},
   "outputs": [],
   "source": [
    "# criando um dicionário \n",
    "dict_guido = {'nome': 'Guido van Rossum',\n",
    "             'linguagem': 'Python',\n",
    "             'similar': ['c','Modula-3','lisp'],\n",
    "             'users': 1000000}"
   ]
  },
  {
   "cell_type": "code",
   "execution_count": 17,
   "id": "5f20e6dc",
   "metadata": {},
   "outputs": [
    {
     "name": "stdout",
     "output_type": "stream",
     "text": [
      "nome Guido van Rossum\n",
      "linguagem Python\n",
      "similar ['c', 'Modula-3', 'lisp']\n",
      "users 1000000\n"
     ]
    }
   ],
   "source": [
    "for k, v in dict_guido.items():\n",
    "    print(k,v)"
   ]
  },
  {
   "cell_type": "code",
   "execution_count": 18,
   "id": "aff57fbf",
   "metadata": {},
   "outputs": [],
   "source": [
    "import json"
   ]
  },
  {
   "cell_type": "code",
   "execution_count": 19,
   "id": "9fc60272",
   "metadata": {},
   "outputs": [
    {
     "data": {
      "text/plain": [
       "'{\"nome\": \"Guido van Rossum\", \"linguagem\": \"Python\", \"similar\": [\"c\", \"Modula-3\", \"lisp\"], \"users\": 1000000}'"
      ]
     },
     "execution_count": 19,
     "metadata": {},
     "output_type": "execute_result"
    }
   ],
   "source": [
    "#convertendo\n",
    "json.dumps(dict_guido)"
   ]
  },
  {
   "cell_type": "code",
   "execution_count": 21,
   "id": "8b050b1c",
   "metadata": {},
   "outputs": [],
   "source": [
    "# criando um arq json\n",
    "with open('arquivos/dados.json' ,'w') as arquivo:\n",
    "    arquivo.write(json.dumps(dict_guido))"
   ]
  },
  {
   "cell_type": "code",
   "execution_count": 22,
   "id": "9140341e",
   "metadata": {},
   "outputs": [],
   "source": [
    "# leitura de arquivos json\n",
    "with open('arquivos/dados.json', 'r') as arquivo:\n",
    "    texto = arquivo.read()\n",
    "    dados = json.loads(texto)"
   ]
  },
  {
   "cell_type": "code",
   "execution_count": 23,
   "id": "6e8aa77f",
   "metadata": {},
   "outputs": [
    {
     "data": {
      "text/plain": [
       "{'nome': 'Guido van Rossum',\n",
       " 'linguagem': 'Python',\n",
       " 'similar': ['c', 'Modula-3', 'lisp'],\n",
       " 'users': 1000000}"
      ]
     },
     "execution_count": 23,
     "metadata": {},
     "output_type": "execute_result"
    }
   ],
   "source": [
    "dados"
   ]
  },
  {
   "cell_type": "code",
   "execution_count": 24,
   "id": "bf3425d6",
   "metadata": {},
   "outputs": [
    {
     "name": "stdout",
     "output_type": "stream",
     "text": [
      "Guido van Rossum\n"
     ]
    }
   ],
   "source": [
    "print(dados['nome'])"
   ]
  },
  {
   "cell_type": "code",
   "execution_count": 25,
   "id": "ec284de0",
   "metadata": {},
   "outputs": [
    {
     "name": "stdout",
     "output_type": "stream",
     "text": [
      "1000000\n"
     ]
    }
   ],
   "source": [
    "print(dados['users'])"
   ]
  },
  {
   "cell_type": "markdown",
   "id": "c5c894b1",
   "metadata": {},
   "source": [
    "### Extração de arquivo da web"
   ]
  },
  {
   "cell_type": "code",
   "execution_count": 32,
   "id": "502e2575",
   "metadata": {},
   "outputs": [],
   "source": [
    "# imprimindo um arquivo JSON copiado da internet \n",
    "from urllib.request import urlopen\n",
    "\n",
    "response = urlopen('http://vimeo.com/api/v2/video/57733101.json').read().decode('utf8')\n",
    "dados = json.loads(response)[0]"
   ]
  },
  {
   "cell_type": "code",
   "execution_count": 33,
   "id": "91d152f1",
   "metadata": {},
   "outputs": [
    {
     "data": {
      "text/plain": [
       "{'id': 57733101,\n",
       " 'title': 'The Good Man trailer',\n",
       " 'description': 'Trailer for the Manifesto Films production, The Good Man, now available in UK/Ireland/US/Canada/Australia/New Zealand on iTunes (https://itunes.apple.com/us/movie/the-good-man/id873130906) and DVD (http://www.amazon.co.uk/The-Good-Man-Aiden-Gillen/dp/B00IIK6CGU/). Co-production with Jet Black Entertainment (South Africa). Starring Aidan Gillen, Thabang Sidloyi, Kelly Campbell, Lunathi Mampofu. Written & directed by Phil Harrison. More info at www.thegoodmanfilm.com<br />\\r\\n<br />\\r\\nCheck out the Variety Magazine review here: http://www.variety.com/review/VE1117947909/',\n",
       " 'url': 'https://vimeo.com/57733101',\n",
       " 'upload_date': '2013-01-19 04:01:15',\n",
       " 'thumbnail_small': 'http://i.vimeocdn.com/video/436057121-e828a1f5478ec0136e957753d107f2a1268c64def9b82faac37c8e30c031cff2-d_100x75',\n",
       " 'thumbnail_medium': 'http://i.vimeocdn.com/video/436057121-e828a1f5478ec0136e957753d107f2a1268c64def9b82faac37c8e30c031cff2-d_200x150',\n",
       " 'thumbnail_large': 'http://i.vimeocdn.com/video/436057121-e828a1f5478ec0136e957753d107f2a1268c64def9b82faac37c8e30c031cff2-d_640',\n",
       " 'user_id': 1334563,\n",
       " 'user_name': 'Manifesto Films',\n",
       " 'user_url': 'https://vimeo.com/manifestofilms',\n",
       " 'user_portrait_small': 'http://i.vimeocdn.com/portrait/4778306_30x30',\n",
       " 'user_portrait_medium': 'http://i.vimeocdn.com/portrait/4778306_75x75',\n",
       " 'user_portrait_large': 'http://i.vimeocdn.com/portrait/4778306_100x100',\n",
       " 'user_portrait_huge': 'http://i.vimeocdn.com/portrait/4778306_300x300',\n",
       " 'stats_number_of_likes': 17,\n",
       " 'stats_number_of_plays': 6579,\n",
       " 'stats_number_of_comments': 0,\n",
       " 'duration': 143,\n",
       " 'width': 1024,\n",
       " 'height': 576,\n",
       " 'tags': 'belfast, cape town, africa, ireland, film',\n",
       " 'embed_privacy': 'anywhere'}"
      ]
     },
     "execution_count": 33,
     "metadata": {},
     "output_type": "execute_result"
    }
   ],
   "source": [
    "dados"
   ]
  },
  {
   "cell_type": "code",
   "execution_count": 31,
   "id": "e540f4bb",
   "metadata": {},
   "outputs": [
    {
     "name": "stdout",
     "output_type": "stream",
     "text": [
      "Título:  The Good Man trailer\n",
      "URL:  https://vimeo.com/57733101\n",
      "Duração:  143\n",
      "Numero de visualizações:  6579\n"
     ]
    }
   ],
   "source": [
    "print ('Título: ', dados['title'])\n",
    "print ('URL: ', dados['url'])\n",
    "print ('Duração: ', dados['duration'])\n",
    "print ('Numero de visualizações: ', dados['stats_number_of_plays'] )"
   ]
  },
  {
   "cell_type": "code",
   "execution_count": 34,
   "id": "2a9f85b2",
   "metadata": {},
   "outputs": [
    {
     "name": "stdout",
     "output_type": "stream",
     "text": [
      "Likes:  17\n"
     ]
    }
   ],
   "source": [
    "print ('Likes: ', dados['stats_number_of_likes'])"
   ]
  },
  {
   "cell_type": "code",
   "execution_count": 35,
   "id": "5db15a14",
   "metadata": {},
   "outputs": [],
   "source": [
    "# nomes dos arquivos\n",
    "arquivo_fonte = 'arquivos/dados.json'\n",
    "arquivo_destino = 'arquivos/dados.txt'"
   ]
  },
  {
   "cell_type": "code",
   "execution_count": 36,
   "id": "35a36e46",
   "metadata": {},
   "outputs": [],
   "source": [
    "# método 1\n",
    "\n",
    "with open(arquivo_fonte, 'r') as infile:\n",
    "    text = infile.read()\n",
    "    with open(arquivo_destino, 'w') as outfile:\n",
    "        outfile.write(text)"
   ]
  },
  {
   "cell_type": "code",
   "execution_count": 37,
   "id": "d2adaf7c",
   "metadata": {},
   "outputs": [
    {
     "data": {
      "text/plain": [
       "107"
      ]
     },
     "execution_count": 37,
     "metadata": {},
     "output_type": "execute_result"
    }
   ],
   "source": [
    "# método 2\n",
    "\n",
    "open(arquivo_destino, 'w').write(open(arquivo_fonte, 'r').read())"
   ]
  },
  {
   "cell_type": "code",
   "execution_count": 38,
   "id": "7bb72210",
   "metadata": {},
   "outputs": [],
   "source": [
    "# leitura do arquivo txt \n",
    "\n",
    "with open('arquivos/dados.txt', 'r') as arquivo:\n",
    "    texto = arquivo.read()\n",
    "    dados = json.loads(texto)"
   ]
  },
  {
   "cell_type": "code",
   "execution_count": 39,
   "id": "acea894d",
   "metadata": {},
   "outputs": [
    {
     "name": "stdout",
     "output_type": "stream",
     "text": [
      "{'nome': 'Guido van Rossum', 'linguagem': 'Python', 'similar': ['c', 'Modula-3', 'lisp'], 'users': 1000000}\n"
     ]
    }
   ],
   "source": [
    "print(dados)"
   ]
  },
  {
   "cell_type": "code",
   "execution_count": null,
   "id": "4a66320d",
   "metadata": {},
   "outputs": [],
   "source": []
  }
 ],
 "metadata": {
  "kernelspec": {
   "display_name": "Python 3 (ipykernel)",
   "language": "python",
   "name": "python3"
  },
  "language_info": {
   "codemirror_mode": {
    "name": "ipython",
    "version": 3
   },
   "file_extension": ".py",
   "mimetype": "text/x-python",
   "name": "python",
   "nbconvert_exporter": "python",
   "pygments_lexer": "ipython3",
   "version": "3.9.12"
  }
 },
 "nbformat": 4,
 "nbformat_minor": 5
}
