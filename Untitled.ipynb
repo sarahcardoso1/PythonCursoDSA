{
 "cells": [
  {
   "cell_type": "markdown",
   "id": "bcb9fb03",
   "metadata": {},
   "source": [
    "# Tratamento de erros e exceçoes "
   ]
  },
  {
   "cell_type": "markdown",
   "id": "c32049fd",
   "metadata": {},
   "source": [
    "sempre leia as mensagens de erros"
   ]
  },
  {
   "cell_type": "code",
   "execution_count": null,
   "id": "1f51001a",
   "metadata": {},
   "outputs": [],
   "source": [
    "print('Hello)"
   ]
  },
  {
   "cell_type": "code",
   "execution_count": null,
   "id": "8779d2a8",
   "metadata": {},
   "outputs": [],
   "source": [
    "8 + 's'  # erro de tipo"
   ]
  },
  {
   "cell_type": "code",
   "execution_count": null,
   "id": "83d0046a",
   "metadata": {},
   "outputs": [],
   "source": [
    "def numDiv (num1, num2):   # criando uma funçao \n",
    "    resultado = num1 / num2\n",
    "    print(resultado)"
   ]
  },
  {
   "cell_type": "code",
   "execution_count": null,
   "id": "28dd028d",
   "metadata": {},
   "outputs": [],
   "source": [
    "numDiv(4,2)  # execuçao nao gera erro"
   ]
  },
  {
   "cell_type": "code",
   "execution_count": null,
   "id": "568a1d59",
   "metadata": {},
   "outputs": [],
   "source": [
    "numDiv(4,0)  # execuçao gerando erro"
   ]
  },
  {
   "cell_type": "markdown",
   "id": "872c0f3e",
   "metadata": {},
   "source": [
    "## Try, except and finally"
   ]
  },
  {
   "cell_type": "code",
   "execution_count": null,
   "id": "f77cb578",
   "metadata": {},
   "outputs": [],
   "source": [
    "8 + 's'"
   ]
  },
  {
   "cell_type": "code",
   "execution_count": null,
   "id": "5d386847",
   "metadata": {},
   "outputs": [],
   "source": [
    "try:\n",
    "    8 + 's'\n",
    "except TypeError:\n",
    "    print('Operaçao nao permitida')"
   ]
  },
  {
   "cell_type": "code",
   "execution_count": null,
   "id": "dbee7c7b",
   "metadata": {},
   "outputs": [],
   "source": [
    "try: \n",
    "    f = open('arquivos/testandoerros.txt', 'w')\n",
    "    f.write('Gravando no arquivo')\n",
    "except IOError:\n",
    "    print('Erro: arquivo nao encontrado ou n pode ser salvo')\n",
    "else: \n",
    "    print('Conteudo gravad com sucesso')\n",
    "    f.close()"
   ]
  },
  {
   "cell_type": "code",
   "execution_count": null,
   "id": "cd934a22",
   "metadata": {},
   "outputs": [],
   "source": [
    "try:\n",
    "    f = open('arquivos/testandoerros', 'r')    # utilizando try, except e else / falta extensao \n",
    "except IOError:\n",
    "    print('erro: arq n encontrado ou n pode ser lido')\n",
    "else:\n",
    "    print('Conteudo gravado com sucesso')\n",
    "    f.close()"
   ]
  },
  {
   "cell_type": "code",
   "execution_count": null,
   "id": "ef103928",
   "metadata": {},
   "outputs": [],
   "source": [
    "try:\n",
    "    f = open('arquivos/testandoerros.txt', 'w')         # utilizando try, except, else e finally\n",
    "    f.write('gravando no arquivo')\n",
    "except IOError:\n",
    "    print('erro: arq n encontrado ou n pode ser lido')\n",
    "else:\n",
    "    print('Conteudo gravado com sucesso')\n",
    "    f.close()\n",
    "finally:\n",
    "    print('Comandos no bloco finally sao sempre executados!')"
   ]
  },
  {
   "cell_type": "code",
   "execution_count": 1,
   "id": "1af821f6",
   "metadata": {},
   "outputs": [],
   "source": [
    "def askint():\n",
    "    try:\n",
    "        val = int((input('Digite um numero: ')))\n",
    "    except:\n",
    "        print('Voce nao digitou um numero!')\n",
    "    finally:\n",
    "        print('Obrigado!')"
   ]
  },
  {
   "cell_type": "code",
   "execution_count": 3,
   "id": "7825d0cb",
   "metadata": {},
   "outputs": [
    {
     "name": "stdout",
     "output_type": "stream",
     "text": [
      "Digite um numero: 0\n",
      "Obrigado!\n"
     ]
    }
   ],
   "source": [
    "askint()"
   ]
  },
  {
   "cell_type": "code",
   "execution_count": 4,
   "id": "3f804cf9",
   "metadata": {},
   "outputs": [],
   "source": [
    "def askint():\n",
    "    try:\n",
    "        val = int((input('Digite um numero: ')))\n",
    "    except:\n",
    "        print('Voce nao digitou um numero!')\n",
    "        val = int(input('Tente novamente. Digite um numero: '))\n",
    "    finally:\n",
    "        print('Obrigado')\n",
    "    print(val)"
   ]
  },
  {
   "cell_type": "code",
   "execution_count": 6,
   "id": "af5c4cc9",
   "metadata": {},
   "outputs": [
    {
     "name": "stdout",
     "output_type": "stream",
     "text": [
      "Digite um numero: \n",
      "Voce nao digitou um numero!\n",
      "Tente novamente. Digite um numero: \n",
      "Obrigado\n"
     ]
    },
    {
     "ename": "ValueError",
     "evalue": "invalid literal for int() with base 10: ''",
     "output_type": "error",
     "traceback": [
      "\u001b[1;31m---------------------------------------------------------------------------\u001b[0m",
      "\u001b[1;31mValueError\u001b[0m                                Traceback (most recent call last)",
      "Input \u001b[1;32mIn [4]\u001b[0m, in \u001b[0;36maskint\u001b[1;34m()\u001b[0m\n\u001b[0;32m      2\u001b[0m \u001b[38;5;28;01mtry\u001b[39;00m:\n\u001b[1;32m----> 3\u001b[0m     val \u001b[38;5;241m=\u001b[39m \u001b[38;5;28;43mint\u001b[39;49m\u001b[43m(\u001b[49m\u001b[43m(\u001b[49m\u001b[38;5;28;43minput\u001b[39;49m\u001b[43m(\u001b[49m\u001b[38;5;124;43m'\u001b[39;49m\u001b[38;5;124;43mDigite um numero: \u001b[39;49m\u001b[38;5;124;43m'\u001b[39;49m\u001b[43m)\u001b[49m\u001b[43m)\u001b[49m\u001b[43m)\u001b[49m\n\u001b[0;32m      4\u001b[0m \u001b[38;5;28;01mexcept\u001b[39;00m:\n",
      "\u001b[1;31mValueError\u001b[0m: invalid literal for int() with base 10: ''",
      "\nDuring handling of the above exception, another exception occurred:\n",
      "\u001b[1;31mValueError\u001b[0m                                Traceback (most recent call last)",
      "Input \u001b[1;32mIn [6]\u001b[0m, in \u001b[0;36m<cell line: 1>\u001b[1;34m()\u001b[0m\n\u001b[1;32m----> 1\u001b[0m \u001b[43maskint\u001b[49m\u001b[43m(\u001b[49m\u001b[43m)\u001b[49m\n",
      "Input \u001b[1;32mIn [4]\u001b[0m, in \u001b[0;36maskint\u001b[1;34m()\u001b[0m\n\u001b[0;32m      4\u001b[0m \u001b[38;5;28;01mexcept\u001b[39;00m:\n\u001b[0;32m      5\u001b[0m     \u001b[38;5;28mprint\u001b[39m(\u001b[38;5;124m'\u001b[39m\u001b[38;5;124mVoce nao digitou um numero!\u001b[39m\u001b[38;5;124m'\u001b[39m)\n\u001b[1;32m----> 6\u001b[0m     val \u001b[38;5;241m=\u001b[39m \u001b[38;5;28;43mint\u001b[39;49m\u001b[43m(\u001b[49m\u001b[38;5;28;43minput\u001b[39;49m\u001b[43m(\u001b[49m\u001b[38;5;124;43m'\u001b[39;49m\u001b[38;5;124;43mTente novamente. Digite um numero: \u001b[39;49m\u001b[38;5;124;43m'\u001b[39;49m\u001b[43m)\u001b[49m\u001b[43m)\u001b[49m\n\u001b[0;32m      7\u001b[0m \u001b[38;5;28;01mfinally\u001b[39;00m:\n\u001b[0;32m      8\u001b[0m     \u001b[38;5;28mprint\u001b[39m(\u001b[38;5;124m'\u001b[39m\u001b[38;5;124mObrigado\u001b[39m\u001b[38;5;124m'\u001b[39m)\n",
      "\u001b[1;31mValueError\u001b[0m: invalid literal for int() with base 10: ''"
     ]
    }
   ],
   "source": [
    "askint()"
   ]
  },
  {
   "cell_type": "code",
   "execution_count": 7,
   "id": "d662d3b2",
   "metadata": {},
   "outputs": [],
   "source": [
    "def askint():\n",
    "    while True:\n",
    "        try: \n",
    "            val = int(input('Digite um numero: '))\n",
    "        except:\n",
    "            print ('Voce n digitou um num')\n",
    "            continue \n",
    "        else:\n",
    "            print('Obrgado por digitar um numero')\n",
    "            break\n",
    "        finally: \n",
    "            print('Fim da execuçao')\n",
    "        print(val)"
   ]
  },
  {
   "cell_type": "code",
   "execution_count": null,
   "id": "976f72cf",
   "metadata": {},
   "outputs": [],
   "source": []
  },
  {
   "cell_type": "code",
   "execution_count": 9,
   "id": "c8790729",
   "metadata": {},
   "outputs": [
    {
     "name": "stdout",
     "output_type": "stream",
     "text": [
      "Digite um numero: s\n",
      "Voce n digitou um num\n",
      "Fim da execuçao\n",
      "Digite um numero: s\n",
      "Voce n digitou um num\n",
      "Fim da execuçao\n",
      "Digite um numero: 4\n",
      "Obrgado por digitar um numero\n",
      "Fim da execuçao\n"
     ]
    }
   ],
   "source": [
    "askint()"
   ]
  },
  {
   "cell_type": "code",
   "execution_count": null,
   "id": "97832419",
   "metadata": {},
   "outputs": [],
   "source": []
  }
 ],
 "metadata": {
  "kernelspec": {
   "display_name": "Python 3 (ipykernel)",
   "language": "python",
   "name": "python3"
  },
  "language_info": {
   "codemirror_mode": {
    "name": "ipython",
    "version": 3
   },
   "file_extension": ".py",
   "mimetype": "text/x-python",
   "name": "python",
   "nbconvert_exporter": "python",
   "pygments_lexer": "ipython3",
   "version": "3.9.12"
  }
 },
 "nbformat": 4,
 "nbformat_minor": 5
}
