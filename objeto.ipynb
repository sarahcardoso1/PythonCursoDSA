{
 "cells": [
  {
   "cell_type": "markdown",
   "id": "527fadb3",
   "metadata": {},
   "source": [
    "# Objeto"
   ]
  },
  {
   "cell_type": "code",
   "execution_count": 1,
   "id": "7bb7da25",
   "metadata": {},
   "outputs": [],
   "source": [
    "# criandouma lista \n",
    "lst_num = [\"Data\", \"Science\", \"Academy\", \"Nota\", 10, 10]"
   ]
  },
  {
   "cell_type": "code",
   "execution_count": 2,
   "id": "0731e999",
   "metadata": {},
   "outputs": [
    {
     "data": {
      "text/plain": [
       "list"
      ]
     },
     "execution_count": 2,
     "metadata": {},
     "output_type": "execute_result"
    }
   ],
   "source": [
    "type(lst_num)"
   ]
  },
  {
   "cell_type": "code",
   "execution_count": 3,
   "id": "ce2fb4a2",
   "metadata": {},
   "outputs": [
    {
     "name": "stdout",
     "output_type": "stream",
     "text": [
      "<class 'list'>\n"
     ]
    }
   ],
   "source": [
    "print(type([]))"
   ]
  },
  {
   "cell_type": "code",
   "execution_count": 4,
   "id": "da28a254",
   "metadata": {},
   "outputs": [
    {
     "data": {
      "text/plain": [
       "2"
      ]
     },
     "execution_count": 4,
     "metadata": {},
     "output_type": "execute_result"
    }
   ],
   "source": [
    "lst_num.count(10)"
   ]
  },
  {
   "cell_type": "code",
   "execution_count": 5,
   "id": "006eb2ef",
   "metadata": {},
   "outputs": [
    {
     "name": "stdout",
     "output_type": "stream",
     "text": [
      "<class 'int'>\n",
      "<class 'list'>\n",
      "<class 'dict'>\n",
      "<class 'str'>\n",
      "<class 'tuple'>\n"
     ]
    }
   ],
   "source": [
    "# usamos a func type para verificar um tipo de objeto\n",
    "\n",
    "print(type(10))\n",
    "print(type([]))\n",
    "print(type({}))\n",
    "print(type('a'))\n",
    "print(type(()))"
   ]
  },
  {
   "cell_type": "code",
   "execution_count": 6,
   "id": "198a8a8d",
   "metadata": {},
   "outputs": [],
   "source": [
    "# criando um novo obj chamado carro \n",
    "class Carro():\n",
    "    pass"
   ]
  },
  {
   "cell_type": "code",
   "execution_count": 7,
   "id": "22480da8",
   "metadata": {},
   "outputs": [],
   "source": [
    "ferrari = Carro()"
   ]
  },
  {
   "cell_type": "code",
   "execution_count": 8,
   "id": "1dfdf9c5",
   "metadata": {},
   "outputs": [],
   "source": [
    "fusca = Carro()"
   ]
  },
  {
   "cell_type": "code",
   "execution_count": 11,
   "id": "b48586e1",
   "metadata": {},
   "outputs": [
    {
     "name": "stdout",
     "output_type": "stream",
     "text": [
      "<class '__main__.Carro'>\n"
     ]
    }
   ],
   "source": [
    "print(type( fusca))"
   ]
  },
  {
   "cell_type": "code",
   "execution_count": 10,
   "id": "b3a5d23a",
   "metadata": {},
   "outputs": [
    {
     "name": "stdout",
     "output_type": "stream",
     "text": [
      "<class '__main__.Carro'>\n"
     ]
    }
   ],
   "source": [
    "print(type(ferrari))"
   ]
  },
  {
   "cell_type": "code",
   "execution_count": 12,
   "id": "64b769e3",
   "metadata": {},
   "outputs": [],
   "source": [
    "# Criando uma classe \n",
    "class Estudantes():\n",
    "    def __init__(self, nome, idade, nota):\n",
    "        self.nome = nome\n",
    "        self.idade = idade \n",
    "        self.nota = nota"
   ]
  },
  {
   "cell_type": "code",
   "execution_count": 13,
   "id": "32757b77",
   "metadata": {},
   "outputs": [],
   "source": [
    "Estudante1 = Estudantes(\"Bob\", 12, 9.5)"
   ]
  },
  {
   "cell_type": "code",
   "execution_count": 14,
   "id": "2509af75",
   "metadata": {},
   "outputs": [
    {
     "data": {
      "text/plain": [
       "'Bob'"
      ]
     },
     "execution_count": 14,
     "metadata": {},
     "output_type": "execute_result"
    }
   ],
   "source": [
    "Estudante1.nome"
   ]
  },
  {
   "cell_type": "code",
   "execution_count": 15,
   "id": "c2c48394",
   "metadata": {},
   "outputs": [
    {
     "data": {
      "text/plain": [
       "12"
      ]
     },
     "execution_count": 15,
     "metadata": {},
     "output_type": "execute_result"
    }
   ],
   "source": [
    "Estudante1.idade"
   ]
  },
  {
   "cell_type": "code",
   "execution_count": 16,
   "id": "ac2fa659",
   "metadata": {},
   "outputs": [
    {
     "data": {
      "text/plain": [
       "9.5"
      ]
     },
     "execution_count": 16,
     "metadata": {},
     "output_type": "execute_result"
    }
   ],
   "source": [
    "Estudante1.nota"
   ]
  },
  {
   "cell_type": "code",
   "execution_count": 22,
   "id": "f618e173",
   "metadata": {},
   "outputs": [],
   "source": [
    "class Funcionarios():\n",
    "    \n",
    "    def __init__(self, nome, salario, cargo):\n",
    "        self.nome = nome\n",
    "        self.salario = salario\n",
    "        self.cargo = cargo\n",
    "    \n",
    "    def listFunc(self):\n",
    "        print(\"Funcionario(a) \" + self.nome + \" tem salario de R$\" + str(self.salario) + \" e o cargo é \" + self.cargo )"
   ]
  },
  {
   "cell_type": "code",
   "execution_count": 23,
   "id": "07de0d9b",
   "metadata": {},
   "outputs": [],
   "source": [
    "Func1 = Funcionarios(\"Mary\", 2000, \"Cientista de Dados\")"
   ]
  },
  {
   "cell_type": "code",
   "execution_count": 24,
   "id": "4212cd62",
   "metadata": {},
   "outputs": [
    {
     "name": "stdout",
     "output_type": "stream",
     "text": [
      "Funcionario(a) Mary tem salario de R$2000 e o cargo é Cientista de Dados\n"
     ]
    }
   ],
   "source": [
    "Func1.listFunc()"
   ]
  },
  {
   "cell_type": "code",
   "execution_count": 25,
   "id": "b656da8f",
   "metadata": {},
   "outputs": [
    {
     "name": "stdout",
     "output_type": "stream",
     "text": [
      "****Usando atributos****\n"
     ]
    }
   ],
   "source": [
    "print(\"****Usando atributos****\")"
   ]
  },
  {
   "cell_type": "code",
   "execution_count": 26,
   "id": "9f5357f6",
   "metadata": {},
   "outputs": [
    {
     "data": {
      "text/plain": [
       "True"
      ]
     },
     "execution_count": 26,
     "metadata": {},
     "output_type": "execute_result"
    }
   ],
   "source": [
    "hasattr(Func1, \"nome\")"
   ]
  },
  {
   "cell_type": "code",
   "execution_count": 28,
   "id": "93faa278",
   "metadata": {},
   "outputs": [
    {
     "data": {
      "text/plain": [
       "False"
      ]
     },
     "execution_count": 28,
     "metadata": {},
     "output_type": "execute_result"
    }
   ],
   "source": [
    "hasattr(Func1, \"salaio\")"
   ]
  },
  {
   "cell_type": "code",
   "execution_count": 29,
   "id": "2c05a5db",
   "metadata": {},
   "outputs": [],
   "source": [
    "setattr(Func1, \"salario\", 4500)"
   ]
  },
  {
   "cell_type": "code",
   "execution_count": 30,
   "id": "7c7e72da",
   "metadata": {},
   "outputs": [
    {
     "data": {
      "text/plain": [
       "True"
      ]
     },
     "execution_count": 30,
     "metadata": {},
     "output_type": "execute_result"
    }
   ],
   "source": [
    "hasattr(Func1, \"salario\")"
   ]
  },
  {
   "cell_type": "code",
   "execution_count": 31,
   "id": "a1597891",
   "metadata": {},
   "outputs": [
    {
     "data": {
      "text/plain": [
       "4500"
      ]
     },
     "execution_count": 31,
     "metadata": {},
     "output_type": "execute_result"
    }
   ],
   "source": [
    "getattr(Func1, \"salario\")"
   ]
  },
  {
   "cell_type": "code",
   "execution_count": 32,
   "id": "327eb187",
   "metadata": {},
   "outputs": [],
   "source": [
    "delattr(Func1, \"salario\")"
   ]
  },
  {
   "cell_type": "code",
   "execution_count": 33,
   "id": "a2f0861b",
   "metadata": {},
   "outputs": [
    {
     "data": {
      "text/plain": [
       "False"
      ]
     },
     "execution_count": 33,
     "metadata": {},
     "output_type": "execute_result"
    }
   ],
   "source": [
    "hasattr(Func1, \"salario\")"
   ]
  },
  {
   "cell_type": "code",
   "execution_count": 5,
   "id": "68745527",
   "metadata": {},
   "outputs": [],
   "source": [
    "class Universitários:\n",
    "    \n",
    "    def __init__(self, nome, status, humor):\n",
    "        self.nome = nome\n",
    "        self.status = status\n",
    "        self.humor = humor \n",
    "        \n",
    "    def listFunc2(self):\n",
    "        print(\"Universitários(as)\" + self.nome + \" é \" + self.status + \" e está \" + self.humor)"
   ]
  },
  {
   "cell_type": "code",
   "execution_count": 6,
   "id": "bb32ea93",
   "metadata": {},
   "outputs": [],
   "source": [
    "Func2 = Universitários(\"Sarah\", \"focada\", \"com sede\")"
   ]
  },
  {
   "cell_type": "code",
   "execution_count": 8,
   "id": "6784ce67",
   "metadata": {},
   "outputs": [
    {
     "name": "stdout",
     "output_type": "stream",
     "text": [
      "Universitários(as)Sarah é focada e está com sede\n"
     ]
    }
   ],
   "source": [
    "Func2.listFunc2()"
   ]
  },
  {
   "cell_type": "code",
   "execution_count": 11,
   "id": "4c0a4615",
   "metadata": {},
   "outputs": [],
   "source": [
    "Func3 = Universitários(\"Davi\", \" dropout \" , \" dormindo \")"
   ]
  },
  {
   "cell_type": "code",
   "execution_count": 12,
   "id": "1a21a6a2",
   "metadata": {},
   "outputs": [
    {
     "name": "stdout",
     "output_type": "stream",
     "text": [
      "Universitários(as)Davi é  dropout  e está  dormindo \n"
     ]
    }
   ],
   "source": [
    "Func3.listFunc2()"
   ]
  },
  {
   "cell_type": "code",
   "execution_count": null,
   "id": "9c27e065",
   "metadata": {},
   "outputs": [],
   "source": []
  }
 ],
 "metadata": {
  "kernelspec": {
   "display_name": "Python 3 (ipykernel)",
   "language": "python",
   "name": "python3"
  },
  "language_info": {
   "codemirror_mode": {
    "name": "ipython",
    "version": 3
   },
   "file_extension": ".py",
   "mimetype": "text/x-python",
   "name": "python",
   "nbconvert_exporter": "python",
   "pygments_lexer": "ipython3",
   "version": "3.9.12"
  }
 },
 "nbformat": 4,
 "nbformat_minor": 5
}
