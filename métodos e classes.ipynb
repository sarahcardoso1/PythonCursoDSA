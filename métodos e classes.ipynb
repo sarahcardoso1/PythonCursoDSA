{
 "cells": [
  {
   "cell_type": "markdown",
   "id": "56a7d674",
   "metadata": {},
   "source": [
    "# Métodos e classes"
   ]
  },
  {
   "cell_type": "code",
   "execution_count": 1,
   "id": "8693f770",
   "metadata": {},
   "outputs": [],
   "source": [
    "class Circulo():\n",
    "    \n",
    "    pi = 3.14          # o valor de pi é constante\n",
    "    \n",
    "    def __init__(self, raio = 5):\n",
    "        self.raio = raio\n",
    "        \n",
    "    def area(self):              # esse método calcula a área\n",
    "        return(self.raio * self.raio) * Circulo.pi\n",
    "    \n",
    "    def setRaio(self, novo_raio):\n",
    "        self.raio = novo_raio      # método para gerar novo raio\n",
    "        \n",
    "    def getRaio(self):     # método para obter o raio do círculo\n",
    "        return self.raio"
   ]
  },
  {
   "cell_type": "code",
   "execution_count": 2,
   "id": "f5edad9e",
   "metadata": {},
   "outputs": [],
   "source": [
    "circ = Circulo()   # executando uma instancia da classe Circulo()"
   ]
  },
  {
   "cell_type": "code",
   "execution_count": 3,
   "id": "ba703f86",
   "metadata": {},
   "outputs": [
    {
     "data": {
      "text/plain": [
       "5"
      ]
     },
     "execution_count": 3,
     "metadata": {},
     "output_type": "execute_result"
    }
   ],
   "source": [
    "circ.getRaio()         # executando um método da classe circulo()"
   ]
  },
  {
   "cell_type": "code",
   "execution_count": 4,
   "id": "9c929e56",
   "metadata": {},
   "outputs": [],
   "source": [
    "circ1 = Circulo(7)"
   ]
  },
  {
   "cell_type": "code",
   "execution_count": 5,
   "id": "5fb04fbf",
   "metadata": {},
   "outputs": [
    {
     "data": {
      "text/plain": [
       "7"
      ]
     },
     "execution_count": 5,
     "metadata": {},
     "output_type": "execute_result"
    }
   ],
   "source": [
    "\n",
    "circ1.getRaio()"
   ]
  },
  {
   "cell_type": "code",
   "execution_count": 6,
   "id": "26df8157",
   "metadata": {},
   "outputs": [
    {
     "name": "stdout",
     "output_type": "stream",
     "text": [
      " O raio é:  5\n"
     ]
    }
   ],
   "source": [
    "print(' O raio é: ', circ.getRaio())"
   ]
  },
  {
   "cell_type": "code",
   "execution_count": 7,
   "id": "da617a47",
   "metadata": {},
   "outputs": [
    {
     "name": "stdout",
     "output_type": "stream",
     "text": [
      " A área é:  78.5\n"
     ]
    }
   ],
   "source": [
    "print(' A área é: ', circ.area())"
   ]
  },
  {
   "cell_type": "code",
   "execution_count": 8,
   "id": "b566f94b",
   "metadata": {},
   "outputs": [],
   "source": [
    "circ.setRaio(8)"
   ]
  },
  {
   "cell_type": "code",
   "execution_count": 9,
   "id": "9d37c06f",
   "metadata": {},
   "outputs": [
    {
     "name": "stdout",
     "output_type": "stream",
     "text": [
      " Novo raio igual a:  8\n"
     ]
    }
   ],
   "source": [
    "print(\" Novo raio igual a: \", circ.getRaio())"
   ]
  },
  {
   "cell_type": "code",
   "execution_count": null,
   "id": "6d2be33c",
   "metadata": {},
   "outputs": [],
   "source": []
  }
 ],
 "metadata": {
  "kernelspec": {
   "display_name": "Python 3 (ipykernel)",
   "language": "python",
   "name": "python3"
  },
  "language_info": {
   "codemirror_mode": {
    "name": "ipython",
    "version": 3
   },
   "file_extension": ".py",
   "mimetype": "text/x-python",
   "name": "python",
   "nbconvert_exporter": "python",
   "pygments_lexer": "ipython3",
   "version": "3.9.12"
  }
 },
 "nbformat": 4,
 "nbformat_minor": 5
}
