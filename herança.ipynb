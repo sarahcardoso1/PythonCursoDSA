{
 "cells": [
  {
   "cell_type": "markdown",
   "id": "fec7e48a",
   "metadata": {},
   "source": [
    "# Herança de classes"
   ]
  },
  {
   "cell_type": "code",
   "execution_count": 1,
   "id": "4d0b4007",
   "metadata": {},
   "outputs": [],
   "source": [
    "class Animal():         # criando a super classe\n",
    "    \n",
    "    def __init__(self):\n",
    "        print('Animal criado.')\n",
    "        \n",
    "    def imprimir(self):\n",
    "        print('Este é um animal.')\n",
    "    \n",
    "    def comer(self):\n",
    "        print('Hora de comer.')\n",
    "        \n",
    "    def emitir_som(self):\n",
    "        pass"
   ]
  },
  {
   "cell_type": "code",
   "execution_count": 5,
   "id": "16e61bda",
   "metadata": {},
   "outputs": [],
   "source": [
    "class Cachorro(Animal):\n",
    "    \n",
    "    def __init__(self):\n",
    "        Animal.__init__(self)\n",
    "        print('Objeto cachorro criado')\n",
    "        \n",
    "    def emitir_som(self):\n",
    "        print('au au')"
   ]
  },
  {
   "cell_type": "code",
   "execution_count": 6,
   "id": "31eb46a3",
   "metadata": {},
   "outputs": [],
   "source": [
    "class Gato(Animal):\n",
    "    \n",
    "    def __init__(self):\n",
    "        Animal.__init__(self)\n",
    "        print('Objeto Gato criado')\n",
    "        \n",
    "    def emitir_som(self):\n",
    "        print('miau')"
   ]
  },
  {
   "cell_type": "code",
   "execution_count": 7,
   "id": "8b27d398",
   "metadata": {},
   "outputs": [
    {
     "name": "stdout",
     "output_type": "stream",
     "text": [
      "Animal criado.\n",
      "Objeto cachorro criado\n"
     ]
    }
   ],
   "source": [
    "rex = Cachorro()    #criando um método ou instanciando a classe"
   ]
  },
  {
   "cell_type": "code",
   "execution_count": 8,
   "id": "7a9c0fd1",
   "metadata": {},
   "outputs": [
    {
     "name": "stdout",
     "output_type": "stream",
     "text": [
      "Animal criado.\n",
      "Objeto Gato criado\n"
     ]
    }
   ],
   "source": [
    "naca = Gato()"
   ]
  },
  {
   "cell_type": "code",
   "execution_count": 10,
   "id": "2d9f6daa",
   "metadata": {},
   "outputs": [
    {
     "name": "stdout",
     "output_type": "stream",
     "text": [
      "au au\n"
     ]
    }
   ],
   "source": [
    "rex.emitir_som()"
   ]
  },
  {
   "cell_type": "code",
   "execution_count": 11,
   "id": "4be02809",
   "metadata": {},
   "outputs": [
    {
     "name": "stdout",
     "output_type": "stream",
     "text": [
      "miau\n"
     ]
    }
   ],
   "source": [
    "naca.emitir_som()"
   ]
  },
  {
   "cell_type": "code",
   "execution_count": 12,
   "id": "90bc4c09",
   "metadata": {},
   "outputs": [
    {
     "name": "stdout",
     "output_type": "stream",
     "text": [
      "Este é um animal.\n"
     ]
    }
   ],
   "source": [
    "rex.imprimir()"
   ]
  },
  {
   "cell_type": "code",
   "execution_count": 13,
   "id": "160e4834",
   "metadata": {},
   "outputs": [
    {
     "name": "stdout",
     "output_type": "stream",
     "text": [
      "Hora de comer.\n"
     ]
    }
   ],
   "source": [
    "rex.comer()  #executando método da subclasse"
   ]
  },
  {
   "cell_type": "code",
   "execution_count": 14,
   "id": "cc03a811",
   "metadata": {},
   "outputs": [
    {
     "name": "stdout",
     "output_type": "stream",
     "text": [
      "Hora de comer.\n"
     ]
    }
   ],
   "source": [
    "naca.comer()   #executando método da subclasse"
   ]
  },
  {
   "cell_type": "code",
   "execution_count": null,
   "id": "e0b1ad43",
   "metadata": {},
   "outputs": [],
   "source": []
  }
 ],
 "metadata": {
  "kernelspec": {
   "display_name": "Python 3 (ipykernel)",
   "language": "python",
   "name": "python3"
  },
  "language_info": {
   "codemirror_mode": {
    "name": "ipython",
    "version": 3
   },
   "file_extension": ".py",
   "mimetype": "text/x-python",
   "name": "python",
   "nbconvert_exporter": "python",
   "pygments_lexer": "ipython3",
   "version": "3.9.12"
  }
 },
 "nbformat": 4,
 "nbformat_minor": 5
}
