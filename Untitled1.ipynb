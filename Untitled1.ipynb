{
 "cells": [
  {
   "cell_type": "markdown",
   "id": "90b363e2",
   "metadata": {},
   "source": [
    "## Expressoes regulares"
   ]
  },
  {
   "cell_type": "markdown",
   "id": "b5f36957",
   "metadata": {},
   "source": [
    "padroes usados para cobinar ou encontrar ocoreencias de seq de carct  em uma string "
   ]
  },
  {
   "cell_type": "code",
   "execution_count": 1,
   "id": "5ba86fbf",
   "metadata": {},
   "outputs": [],
   "source": [
    "import re"
   ]
  },
  {
   "cell_type": "code",
   "execution_count": 2,
   "id": "5392caab",
   "metadata": {},
   "outputs": [],
   "source": [
    "texto = 'Meu e-mail é exemplo@gmail.com e voce pode me contatar em outro_email@yahoo.com.'"
   ]
  },
  {
   "cell_type": "code",
   "execution_count": 10,
   "id": "f29ec269",
   "metadata": {},
   "outputs": [],
   "source": [
    "resultado = len(re.findall('@', texto)) # contar quantasvezes um caracter aparece "
   ]
  },
  {
   "cell_type": "code",
   "execution_count": 11,
   "id": "286ddf02",
   "metadata": {},
   "outputs": [
    {
     "name": "stdout",
     "output_type": "stream",
     "text": [
      "O caractere '@' apareceu 2 vezes no texto\n"
     ]
    }
   ],
   "source": [
    "print(\"O caractere '@' apareceu\", resultado, 'vezes no texto')"
   ]
  },
  {
   "cell_type": "code",
   "execution_count": 13,
   "id": "b9217d79",
   "metadata": {},
   "outputs": [],
   "source": [
    "resultado = re.findall(r'voce (\\w+)', texto)   # ex r para extrair a palavra após a palavra voce "
   ]
  },
  {
   "cell_type": "code",
   "execution_count": 14,
   "id": "cb7c544d",
   "metadata": {},
   "outputs": [
    {
     "name": "stdout",
     "output_type": "stream",
     "text": [
      "A palavra após 'voce' é: pode\n"
     ]
    }
   ],
   "source": [
    "print(\"A palavra após 'voce' é:\", resultado[0])"
   ]
  },
  {
   "cell_type": "markdown",
   "id": "3197d21d",
   "metadata": {},
   "source": [
    "NOTA: \n",
    "    o r antes da string que representa a expressãoregular em py é utilizado para indicar que é literal raw. barras invertidas () n sao interpretadas como caracteres de escae, mas sao incluídas na expressao regular como parte do padrao."
   ]
  },
  {
   "cell_type": "code",
   "execution_count": 16,
   "id": "3cf86b31",
   "metadata": {},
   "outputs": [],
   "source": [
    "emails = re.findall(r'\\b[A-Za-z0-9._%+-]+@[A-Za-z0-9.-]+\\.[A-Z|a-z]{2,}\\b', texto)"
   ]
  },
  {
   "cell_type": "code",
   "execution_count": 17,
   "id": "d241da49",
   "metadata": {},
   "outputs": [
    {
     "name": "stdout",
     "output_type": "stream",
     "text": [
      "['exemplo@gmail.com', 'outro_email@yahoo.com']\n"
     ]
    }
   ],
   "source": [
    "print(emails)"
   ]
  },
  {
   "cell_type": "markdown",
   "id": "145cbdfb",
   "metadata": {},
   "source": [
    "visite a documentaçao:\n",
    "    https://docs.python.org/3.9/library/re.html"
   ]
  },
  {
   "cell_type": "code",
   "execution_count": 20,
   "id": "8e9b2a95",
   "metadata": {},
   "outputs": [],
   "source": [
    "text = \"O aluno estava incrivelmente perdido, mas encontrou a DSA e rapidamente começou a aprender.\""
   ]
  },
  {
   "cell_type": "code",
   "execution_count": 21,
   "id": "0c743e69",
   "metadata": {},
   "outputs": [
    {
     "name": "stdout",
     "output_type": "stream",
     "text": [
      "15-28: incrivelmente\n",
      "60-71: rapidamente\n"
     ]
    }
   ],
   "source": [
    "for m in re.finditer(r\"\\w+mente\\b\", text):\n",
    "    print('%02d-%02d: %s' % (m.start(), m.end(), m.group(0)))"
   ]
  },
  {
   "cell_type": "markdown",
   "id": "7d8e87d3",
   "metadata": {},
   "source": [
    "## REGEX com CHATGPT"
   ]
  },
  {
   "cell_type": "code",
   "execution_count": 30,
   "id": "c41e9528",
   "metadata": {},
   "outputs": [],
   "source": [
    "# variavel do tipo string\n",
    "musica = '''\n",
    "Todos os dias quando acordo\n",
    "Não tenho mais\n",
    "O tempo que passou\n",
    "Mas tenho muito tempo\n",
    "Temos todo o tempo do mundo\n",
    "Todos os dias\n",
    "Antes de dormir\n",
    "Lembro e esqueço\n",
    "Como foi o dia\n",
    "Sempre em frente\n",
    "Não temos tempo a perder\n",
    "Nosso suor sagrado\n",
    "É bem mais belo\n",
    "Que esse sangue amargo\n",
    "E tão sério\n",
    "E selvagem! Selvagem!\n",
    "Selvagem!\n",
    "Veja o sol\n",
    "Dessa manhã tão cinza\n",
    "A tempestade que chega\n",
    "É da cor dos teus olhos\n",
    "Castanhos\n",
    "Então me abraça forte\n",
    "E diz mais uma vez\n",
    "Que já estamos\n",
    "Distantes de tudo\n",
    "Temos nosso próprio tempo\n",
    "Temos nosso próprio tempo\n",
    "Temos nosso próprio tempo\n",
    "Não tenho medo do escuro\n",
    "Mas deixe as luzes\n",
    "Acesas agora\n",
    "O que foi escondido\n",
    "É o que se escondeu\n",
    "E o que foi prometido\n",
    "Ninguém prometeu\n",
    "Nem foi tempo perdido\n",
    "Somos tão jovens\n",
    "Tão jovens! Tão jovens!\n",
    "'''"
   ]
  },
  {
   "cell_type": "code",
   "execution_count": 24,
   "id": "ca497c2c",
   "metadata": {},
   "outputs": [
    {
     "name": "stdout",
     "output_type": "stream",
     "text": [
      "\n",
      "Todos os dias quando acordo\n",
      "Não tenho mais\n",
      "O tempo que passou\n",
      "Mas tenho muito tempo\n",
      "Temos todo o tempo do mundo\n",
      "Todos os dias\n",
      "Antes de dormir\n",
      "Lembro e esqueço\n",
      "Como foi o dia\n",
      "Sempre em frente\n",
      "Não temos tempo a perder\n",
      "Nosso suor sagrado\n",
      "É bem mais belo\n",
      "Que esse sangue amargo\n",
      "E tão sério\n",
      "E selvagem! Selvagem!\n",
      "Selvagem!\n",
      "Veja o sol\n",
      "Dessa manhã tão cinza\n",
      "A tempestade que chega\n",
      "É da cor dos teus olhos\n",
      "Castanhos\n",
      "Então me abraça forte\n",
      "E diz mais uma vez\n",
      "Que já estamos\n",
      "Distantes de tudo\n",
      "Temos nosso próprio tempo\n",
      "Temos nosso próprio tempo\n",
      "Temos nosso próprio tempo\n",
      "Não tenho medo do escuro\n",
      "Mas deixe as luzes\n",
      "Acesas agora\n",
      "O que foi escondido\n",
      "É o que se escondeu\n",
      "E o que foi prometido\n",
      "Ninguém prometeu\n",
      "Nem foi tempo perdido\n",
      "Somos tão jovens\n",
      "Tão jovens! Tão jovens!\n",
      "\n"
     ]
    }
   ],
   "source": [
    "print(musica)"
   ]
  },
  {
   "cell_type": "code",
   "execution_count": 25,
   "id": "4af3f138",
   "metadata": {},
   "outputs": [],
   "source": [
    "# 1- Crie um REGEX para contar quantas vezes o caracter \"a\" aparece em todo o texto da música.\n",
    "# 2- Crie um REGEX em Python para contar quantas vezes a palavra tempo aparece na música.\n",
    "# 3- Crie um REGEX em Python para extrair as palavras seguidas por exclamação.\n",
    "# 4- Crie um REGEX que extrai qualquer palavra cujo antecessor seja a palavra \"esse\" e o sucessor seja a palavra \"amargo\" em um texto.\n",
    "# 5- Crie um REGEX que retorne as palavras com acento, mas somente os caracteres na palavra que são anteriores ao caracter com acento.\n"
   ]
  },
  {
   "cell_type": "code",
   "execution_count": 31,
   "id": "602f4f4c",
   "metadata": {},
   "outputs": [
    {
     "name": "stdout",
     "output_type": "stream",
     "text": [
      "39\n"
     ]
    }
   ],
   "source": [
    "musica = '''\n",
    "Todos os dias quando acordo\n",
    "Não tenho mais\n",
    "O tempo que passou\n",
    "Mas tenho muito tempo\n",
    "Temos todo o tempo do mundo\n",
    "Todos os dias\n",
    "Antes de dormir\n",
    "Lembro e esqueço\n",
    "Como foi o dia\n",
    "Sempre em frente\n",
    "Não temos tempo a perder\n",
    "Nosso suor sagrado\n",
    "É bem mais belo\n",
    "Que esse sangue amargo\n",
    "E tão sério\n",
    "E selvagem! Selvagem!\n",
    "Selvagem!\n",
    "Veja o sol\n",
    "Dessa manhã tão cinza\n",
    "A tempestade que chega\n",
    "É da cor dos teus olhos\n",
    "Castanhos\n",
    "Então me abraça forte\n",
    "E diz mais uma vez\n",
    "Que já estamos\n",
    "Distantes de tudo\n",
    "Temos nosso próprio tempo\n",
    "Temos nosso próprio tempo\n",
    "Temos nosso próprio tempo\n",
    "Não tenho medo do escuro\n",
    "Mas deixe as luzes\n",
    "Acesas agora\n",
    "O que foi escondido\n",
    "É o que se escondeu\n",
    "E o que foi prometido\n",
    "Ninguém prometeu\n",
    "Nem foi tempo perdido\n",
    "Somos tão jovens\n",
    "Tão jovens! Tão jovens!\n",
    "'''\n",
    "regex = r\"a\"\n",
    "contagem = len(re.findall(regex, musica))\n",
    "print(contagem)                                                              # 1\n"
   ]
  },
  {
   "cell_type": "code",
   "execution_count": 33,
   "id": "23a16a80",
   "metadata": {},
   "outputs": [
    {
     "name": "stdout",
     "output_type": "stream",
     "text": [
      "O caractere 'a' aparece 39 vezes no texto\n"
     ]
    }
   ],
   "source": [
    "match = re.findall('a', musica)\n",
    "count = len(match)                                                     #1. 2\n",
    "print(\"O caractere 'a' aparece\", count,\"vezes no texto\")"
   ]
  },
  {
   "cell_type": "code",
   "execution_count": 34,
   "id": "8a5dc4c6",
   "metadata": {},
   "outputs": [
    {
     "name": "stdout",
     "output_type": "stream",
     "text": [
      "8\n"
     ]
    }
   ],
   "source": [
    "regex = r\"\\btempo\\b\"\n",
    "contagem = len(re.findall(regex, musica))                        #2\n",
    "print(contagem)"
   ]
  },
  {
   "cell_type": "code",
   "execution_count": 37,
   "id": "411f9123",
   "metadata": {},
   "outputs": [
    {
     "name": "stdout",
     "output_type": "stream",
     "text": [
      "[]\n"
     ]
    }
   ],
   "source": [
    "regex = r\"\\b\\w+!\\b\"\n",
    "palavras = re.findall(regex, musica)                        #3 ~funciona \n",
    "print(palavras)"
   ]
  },
  {
   "cell_type": "code",
   "execution_count": 38,
   "id": "cea1a4b5",
   "metadata": {},
   "outputs": [
    {
     "name": "stdout",
     "output_type": "stream",
     "text": [
      "estas sao as palavras seguidas por excalamaçao ['selvagem!', 'Selvagem!', 'Selvagem!', 'jovens!', 'jovens!']\n"
     ]
    }
   ],
   "source": [
    "resultado3 = re.findall(r'\\b\\w+!', musica)\n",
    "print('estas sao as palavras seguidas por excalamaçao', resultado3)        #3.1"
   ]
  },
  {
   "cell_type": "code",
   "execution_count": 39,
   "id": "5a7f2130",
   "metadata": {},
   "outputs": [
    {
     "name": "stdout",
     "output_type": "stream",
     "text": [
      "['sangue']\n"
     ]
    }
   ],
   "source": [
    "regex = r\"\\besse\\s+(\\w+)\\s+amargo\\b\"\n",
    "palavras = re.findall(regex, musica)               #4\n",
    "print(palavras)"
   ]
  },
  {
   "cell_type": "code",
   "execution_count": 40,
   "id": "0778d686",
   "metadata": {},
   "outputs": [
    {
     "name": "stdout",
     "output_type": "stream",
     "text": [
      "['s', 'j', 'pr', 'pr', 'pr', 'Ningu']\n"
     ]
    }
   ],
   "source": [
    "regex = r\"\\b\\w*[áéíóú]\\w*\\b\"\n",
    "palavras = re.findall(regex, musica)\n",
    "acentuadas = [re.sub(r'[áéíóú].*$', '', p) for p in palavras]   #5\n",
    "print(acentuadas)"
   ]
  },
  {
   "cell_type": "code",
   "execution_count": 41,
   "id": "f1ee5f13",
   "metadata": {},
   "outputs": [
    {
     "name": "stdout",
     "output_type": "stream",
     "text": [
      "As palavras acentuadas são: ['Nã', 'esqueç', 'Nã', 'tã', 'sé', 'manhã', 'tã', 'Entã', 'abraç', 'já', 'pró', 'pró', 'pró', 'Nã', 'Ningué', 'tã', 'Tã', 'Tã']\n"
     ]
    }
   ],
   "source": [
    "resultado5 = re.findall(r'\\b[\\wÀ-ÿ]+[áéíóúãõç]', musica)\n",
    "print(\"As palavras acentuadas são:\", resultado5)                #5"
   ]
  },
  {
   "cell_type": "code",
   "execution_count": 42,
   "id": "c54e015b",
   "metadata": {},
   "outputs": [
    {
     "name": "stdout",
     "output_type": "stream",
     "text": [
      "['esqueo', 'srio', 'abraa', 'j', 'prprio', 'prprio', 'prprio', 'Ningum']\n"
     ]
    }
   ],
   "source": [
    "regex = r\"\\b\\w*[áéíóúâêôàèûõç]+\\w*\\b\"\n",
    "palavras = re.findall(regex, musica)\n",
    "nova_palavras = [re.sub(r'[áéíóúâêôàèûõç]+', '', palavra) for palavra in palavras]\n",
    "print(nova_palavras)"
   ]
  },
  {
   "cell_type": "code",
   "execution_count": 44,
   "id": "b32a3d52",
   "metadata": {},
   "outputs": [
    {
     "name": "stdout",
     "output_type": "stream",
     "text": [
      "Help on function finditer in module re:\n",
      "\n",
      "finditer(pattern, string, flags=0)\n",
      "    Return an iterator over all non-overlapping matches in the\n",
      "    string.  For each match, the iterator returns a Match object.\n",
      "    \n",
      "    Empty matches are included in the result.\n",
      "\n"
     ]
    }
   ],
   "source": [
    "help(re.finditer)"
   ]
  },
  {
   "cell_type": "code",
   "execution_count": null,
   "id": "ab714584",
   "metadata": {},
   "outputs": [],
   "source": []
  }
 ],
 "metadata": {
  "kernelspec": {
   "display_name": "Python 3 (ipykernel)",
   "language": "python",
   "name": "python3"
  },
  "language_info": {
   "codemirror_mode": {
    "name": "ipython",
    "version": 3
   },
   "file_extension": ".py",
   "mimetype": "text/x-python",
   "name": "python",
   "nbconvert_exporter": "python",
   "pygments_lexer": "ipython3",
   "version": "3.9.12"
  }
 },
 "nbformat": 4,
 "nbformat_minor": 5
}
